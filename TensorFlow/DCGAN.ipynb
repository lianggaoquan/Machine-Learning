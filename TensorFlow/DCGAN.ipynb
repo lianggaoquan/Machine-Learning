{
 "cells": [
  {
   "cell_type": "code",
   "execution_count": 1,
   "metadata": {},
   "outputs": [
    {
     "name": "stdout",
     "output_type": "stream",
     "text": [
      "Extracting D:/MNIST/train-images-idx3-ubyte.gz\n",
      "Extracting D:/MNIST/train-labels-idx1-ubyte.gz\n",
      "Extracting D:/MNIST/t10k-images-idx3-ubyte.gz\n",
      "Extracting D:/MNIST/t10k-labels-idx1-ubyte.gz\n"
     ]
    }
   ],
   "source": [
    "import numpy as np\n",
    "import tensorflow as tf\n",
    "import matplotlib.pyplot as plt\n",
    "\n",
    "from tensorflow.examples.tutorials.mnist import input_data\n",
    "mnist = input_data.read_data_sets('D:/MNIST/',one_hot=True)\n",
    "train_img = mnist.train.images[0:100]\n",
    "\n",
    "train_img = train_img*2 - 1;"
   ]
  },
  {
   "cell_type": "code",
   "execution_count": 2,
   "metadata": {},
   "outputs": [],
   "source": [
    "def model_inputs(real_dim, z_dim):\n",
    "    inputs_real = tf.placeholder(tf.float32, [None, real_dim], name='inputs_real')\n",
    "    inputs_real = tf.reshape(inputs_real,[-1,28,28,1])\n",
    "    \n",
    "    inputs_z = tf.placeholder(tf.float32, [None, z_dim], name='inputs_z')\n",
    "    \n",
    "    return inputs_real, inputs_z"
   ]
  },
  {
   "cell_type": "code",
   "execution_count": 3,
   "metadata": {},
   "outputs": [],
   "source": [
    "def discriminator(x,reuse=False):\n",
    "    with tf.variable_scope('discriminator',reuse=reuse):\n",
    "        conv1 = tf.layers.conv2d(x,6,kernel_size=(1,1),strides=(1,1),activation=tf.nn.relu)\n",
    "        pool1 = tf.layers.max_pooling2d(conv1,pool_size=(2,2),strides=(2,2))\n",
    "        conv2 = tf.layers.conv2d(pool1,16,kernel_size=(5,5),strides=(1,1),activation=tf.nn.relu)\n",
    "        pool2 = tf.layers.max_pooling2d(conv2,pool_size=(2,2),strides=(2,2))\n",
    "        \n",
    "        dense1 = tf.layers.flatten(pool2)\n",
    "        dense2 = tf.layers.dense(dense1,120,activation=tf.nn.relu)\n",
    "        dense3 = tf.layers.dense(dense2,84,activation=tf.nn.relu)\n",
    "        logit = tf.layers.dense(dense3,1)\n",
    "        \n",
    "        out = tf.nn.sigmoid(logit)\n",
    "        return out,logit"
   ]
  },
  {
   "cell_type": "code",
   "execution_count": 4,
   "metadata": {},
   "outputs": [],
   "source": [
    "def generator(z,z_dim,reuse=False):\n",
    "    with tf.variable_scope('generator',reuse=reuse):\n",
    "        g1 = tf.layers.dense(z,3136,activation=tf.nn.relu)\n",
    "        g1 = tf.reshape(g1,[-1,56,56,1])\n",
    "        g1 = tf.contrib.layers.batch_norm(g1,epsilon=1e-5)\n",
    "        \n",
    "        g2 = tf.layers.conv2d(g1,z_dim/2,kernel_size=(3,3),strides=(2,2),padding='same',activation=tf.nn.relu)\n",
    "        g2 = tf.contrib.layers.batch_norm(g2,epsilon=1e-5)\n",
    "    \n",
    "        g3 = tf.layers.conv2d(g2,z_dim/4,kernel_size=(3,3),strides=(2,2),padding='same',activation=tf.nn.relu)\n",
    "        g3 = tf.contrib.layers.batch_norm(g3,epsilon=1e-5)\n",
    "    \n",
    "        g3 = tf.image.resize_images(g3,[56,56])\n",
    "    \n",
    "        # final output with one channel\n",
    "        logit = tf.layers.conv2d(g3,1,kernel_size=(3,3),strides=(2,2),padding='same')\n",
    "        out = tf.nn.tanh(logit)\n",
    "        \n",
    "        return out,logit"
   ]
  },
  {
   "cell_type": "code",
   "execution_count": 5,
   "metadata": {},
   "outputs": [],
   "source": [
    "z_size = 100\n",
    "lr = 0.002"
   ]
  },
  {
   "cell_type": "code",
   "execution_count": 6,
   "metadata": {},
   "outputs": [],
   "source": [
    "input_real,input_z = model_inputs(784,z_size)\n",
    "g_model,g_logit = generator(input_z,z_size)\n",
    "\n",
    "d_model_real,d_logit_real = discriminator(input_real)\n",
    "d_model_fake,d_logit_fake = discriminator(g_model,reuse=True)"
   ]
  },
  {
   "cell_type": "code",
   "execution_count": 7,
   "metadata": {},
   "outputs": [
    {
     "name": "stdout",
     "output_type": "stream",
     "text": [
      "(?, 28, 28, 1)\n"
     ]
    }
   ],
   "source": [
    "print(input_real.shape)"
   ]
  },
  {
   "cell_type": "code",
   "execution_count": 8,
   "metadata": {},
   "outputs": [],
   "source": [
    "d_loss_real = tf.reduce_mean(tf.nn.sigmoid_cross_entropy_with_logits(logits=d_logit_real,labels=tf.ones_like(d_logit_real)))\n",
    "d_loss_fake = tf.reduce_mean(tf.nn.sigmoid_cross_entropy_with_logits(logits=d_logit_fake,labels=tf.zeros_like(d_logit_fake)))\n",
    "\n",
    "d_loss = d_loss_real + d_loss_fake\n",
    "\n",
    "g_loss = tf.reduce_mean(tf.nn.sigmoid_cross_entropy_with_logits(logits=d_logit_fake,labels=tf.ones_like(d_logit_fake)))"
   ]
  },
  {
   "cell_type": "code",
   "execution_count": 9,
   "metadata": {},
   "outputs": [],
   "source": [
    "t_vars = tf.trainable_variables()\n",
    "\n",
    "g_var = [var for var in t_vars if var.name.startswith('generator')]\n",
    "d_var = [var for var in t_vars if var.name.startswith('discriminator')]"
   ]
  },
  {
   "cell_type": "code",
   "execution_count": 10,
   "metadata": {},
   "outputs": [],
   "source": [
    "d_train = tf.train.AdamOptimizer(lr).minimize(d_loss,var_list=d_var)\n",
    "g_train = tf.train.AdamOptimizer(lr).minimize(g_loss,var_list=g_var)"
   ]
  },
  {
   "cell_type": "code",
   "execution_count": 11,
   "metadata": {},
   "outputs": [
    {
     "name": "stdout",
     "output_type": "stream",
     "text": [
      "epoch :  0  ,d_loss :  0.9313  ,g_loss :  1.07941\n",
      "epoch :  25  ,d_loss :  1.01288  ,g_loss :  1.77895\n",
      "epoch :  50  ,d_loss :  0.996225  ,g_loss :  1.03075\n",
      "epoch :  75  ,d_loss :  0.97052  ,g_loss :  1.93999\n",
      "epoch :  100  ,d_loss :  0.537881  ,g_loss :  2.07897\n",
      "epoch :  125  ,d_loss :  0.725354  ,g_loss :  1.91842\n",
      "epoch :  150  ,d_loss :  0.63064  ,g_loss :  1.78402\n",
      "epoch :  175  ,d_loss :  0.674166  ,g_loss :  2.1539\n",
      "epoch :  200  ,d_loss :  0.804975  ,g_loss :  1.92757\n",
      "epoch :  225  ,d_loss :  0.594217  ,g_loss :  1.74163\n",
      "epoch :  250  ,d_loss :  0.531988  ,g_loss :  2.06198\n",
      "epoch :  275  ,d_loss :  0.497663  ,g_loss :  2.04506\n",
      "epoch :  300  ,d_loss :  0.625113  ,g_loss :  2.27976\n",
      "epoch :  325  ,d_loss :  0.599595  ,g_loss :  1.87968\n",
      "epoch :  350  ,d_loss :  0.530174  ,g_loss :  1.97243\n",
      "epoch :  375  ,d_loss :  0.641245  ,g_loss :  2.14184\n",
      "epoch :  400  ,d_loss :  0.744241  ,g_loss :  1.77239\n",
      "epoch :  425  ,d_loss :  0.64474  ,g_loss :  2.25099\n",
      "epoch :  450  ,d_loss :  0.563244  ,g_loss :  2.12228\n",
      "epoch :  475  ,d_loss :  0.53093  ,g_loss :  2.30826\n"
     ]
    }
   ],
   "source": [
    "epochs = 500\n",
    "batch_size = 50\n",
    "\n",
    "with tf.Session() as sess:\n",
    "    sess.run(tf.global_variables_initializer())\n",
    "    \n",
    "    g_cost,d_cost = [],[]\n",
    "    \n",
    "    for e in range(epochs):\n",
    "        for i in range(10):\n",
    "            batch_img = mnist.train.next_batch(batch_size)\n",
    "            batch_img = batch_img[0].reshape(batch_size,784)\n",
    "            batch_img = batch_img*2 - 1;\n",
    "            batch_img = batch_img.reshape(batch_img.shape[0],28,28,1)\n",
    "            \n",
    "            batch_z = np.random.uniform(-1,1,(batch_size,z_size))\n",
    "            \n",
    "            sess.run(d_train,feed_dict={input_real:batch_img,input_z:batch_z})\n",
    "            sess.run(g_train,feed_dict={input_z:batch_z})\n",
    "            \n",
    "            d_ = sess.run(d_loss,feed_dict={input_real:batch_img,input_z:batch_z})\n",
    "            g_ = g_loss.eval(feed_dict={input_z:batch_z})\n",
    "            \n",
    "            if e % 10 == 0:\n",
    "                d_cost.append(d_)\n",
    "                g_cost.append(g_)\n",
    "            \n",
    "        if e % 25 == 0:\n",
    "            print('epoch : ',str(e),' ,d_loss : ',str(d_),' ,g_loss : ',str(g_))\n",
    "            \n",
    "    \n",
    "    for j in range(3):\n",
    "        batch_z = np.random.uniform(-1,1,(batch_size,z_size))\n",
    "        sample,_ = sess.run(generator(input_z,z_size,reuse=True),feed_dict={input_z:batch_z})\n",
    "        sample = np.array(sample)\n",
    "        plt.imshow(sample[1].reshape(28,28),cmap='Greys_r')\n",
    "        plt.show()\n",
    "    \n",
    "    sess.close()"
   ]
  },
  {
   "cell_type": "code",
   "execution_count": 12,
   "metadata": {},
   "outputs": [],
   "source": [
    "plt.plot(d_cost,'r-')\n",
    "plt.plot(g_cost,'g-')\n",
    "plt.show()"
   ]
  },
  {
   "cell_type": "code",
   "execution_count": null,
   "metadata": {},
   "outputs": [],
   "source": []
  }
 ],
 "metadata": {
  "anaconda-cloud": {},
  "kernelspec": {
   "display_name": "Python [Root]",
   "language": "python",
   "name": "Python [Root]"
  },
  "language_info": {
   "codemirror_mode": {
    "name": "ipython",
    "version": 3
   },
   "file_extension": ".py",
   "mimetype": "text/x-python",
   "name": "python",
   "nbconvert_exporter": "python",
   "pygments_lexer": "ipython3",
   "version": "3.5.1"
  }
 },
 "nbformat": 4,
 "nbformat_minor": 1
}
