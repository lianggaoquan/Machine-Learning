{
 "cells": [
  {
   "cell_type": "code",
   "execution_count": 1,
   "metadata": {},
   "outputs": [],
   "source": [
    "import pandas as pd\n",
    "import numpy as np\n",
    "\n",
    "def inputs():\n",
    "    X = pd.read_csv(\"D:/文件/数学建模/data.csv\")\n",
    "    y = X.pop(\"amountOfHealthyPiglets\")\n",
    "    return X,y"
   ]
  },
  {
   "cell_type": "code",
   "execution_count": 2,
   "metadata": {},
   "outputs": [],
   "source": [
    "X,y = inputs()"
   ]
  },
  {
   "cell_type": "code",
   "execution_count": 4,
   "metadata": {},
   "outputs": [
    {
     "data": {
      "text/plain": [
       "﻿T1    21.028571\n",
       "Name: 0, dtype: float64"
      ]
     },
     "execution_count": 4,
     "metadata": {},
     "output_type": "execute_result"
    }
   ],
   "source": [
    "X.iloc[0]"
   ]
  },
  {
   "cell_type": "code",
   "execution_count": 5,
   "metadata": {},
   "outputs": [
    {
     "data": {
      "text/plain": [
       "12"
      ]
     },
     "execution_count": 5,
     "metadata": {},
     "output_type": "execute_result"
    }
   ],
   "source": [
    "y.iloc[0]"
   ]
  },
  {
   "cell_type": "code",
   "execution_count": 6,
   "metadata": {},
   "outputs": [
    {
     "data": {
      "text/plain": [
       "pandas.core.frame.DataFrame"
      ]
     },
     "execution_count": 6,
     "metadata": {},
     "output_type": "execute_result"
    }
   ],
   "source": [
    "type(X)"
   ]
  },
  {
   "cell_type": "code",
   "execution_count": 7,
   "metadata": {},
   "outputs": [],
   "source": [
    "init = 21\n",
    "result = {}  #数据集\n",
    "temp = 0    #要求的X\n",
    "i = 0\n",
    "times = 0   # 记录数据量以计算平均值\n",
    "\n",
    "Sum = 0\n",
    "average = 0\n",
    "\n",
    "temp_X = float(X.iloc[i])\n",
    "temp_y = float(y.iloc[i])\n",
    "\n",
    "for _ in range((28-21)*2-1):\n",
    "    times = 0   # 记录数据量以计算平均值\n",
    "\n",
    "    Sum = 0\n",
    "    average = 0\n",
    "    times += 1\n",
    "    \n",
    "    while temp_X - init < 0.5:\n",
    "        Sum += temp_y\n",
    "        i = i + 1\n",
    "        temp_X = float(X.iloc[i])\n",
    "        temp_y = float(y.iloc[i])\n",
    "    \n",
    "        times += 1\n",
    "    \n",
    "    average = Sum / times\n",
    "    temp = (init + (init + 0.5)) / 2\n",
    "    result[temp] = average\n",
    "    init += 0.5"
   ]
  },
  {
   "cell_type": "code",
   "execution_count": 8,
   "metadata": {},
   "outputs": [
    {
     "data": {
      "text/plain": [
       "{21.25: 10.793205317577549,\n",
       " 21.75: 11.11328125,\n",
       " 22.25: 10.95021749637506,\n",
       " 22.75: 10.84765625,\n",
       " 23.25: 10.980322003577818,\n",
       " 23.75: 10.844660194174757,\n",
       " 24.25: 10.95674300254453,\n",
       " 24.75: 10.942334739803094,\n",
       " 25.25: 10.966386554621849,\n",
       " 25.75: 10.816091954022989,\n",
       " 26.25: 11.042821158690176,\n",
       " 26.75: 11.01310615989515,\n",
       " 27.25: 10.916265640038498}"
      ]
     },
     "execution_count": 8,
     "metadata": {},
     "output_type": "execute_result"
    }
   ],
   "source": [
    "result"
   ]
  },
  {
   "cell_type": "code",
   "execution_count": 9,
   "metadata": {},
   "outputs": [
    {
     "data": {
      "text/plain": [
       "14234"
      ]
     },
     "execution_count": 9,
     "metadata": {},
     "output_type": "execute_result"
    }
   ],
   "source": [
    "i"
   ]
  },
  {
   "cell_type": "code",
   "execution_count": 14,
   "metadata": {},
   "outputs": [],
   "source": [
    "# 处理剩余的数据\n",
    "Sum = 0\n",
    "average = 0\n",
    "times = 0\n",
    "while i < len(X):\n",
    "    Sum += float(y.iloc[i])\n",
    "    i = i + 1\n",
    "    times += 1\n",
    "\n",
    "average = Sum / times\n",
    "\n",
    "result[temp+0.5] = average"
   ]
  },
  {
   "cell_type": "code",
   "execution_count": 15,
   "metadata": {},
   "outputs": [
    {
     "data": {
      "text/plain": [
       "{21.25: 10.793205317577549,\n",
       " 21.75: 11.11328125,\n",
       " 22.25: 10.95021749637506,\n",
       " 22.75: 10.84765625,\n",
       " 23.25: 10.980322003577818,\n",
       " 23.75: 10.844660194174757,\n",
       " 24.25: 10.95674300254453,\n",
       " 24.75: 10.942334739803094,\n",
       " 25.25: 10.966386554621849,\n",
       " 25.75: 10.816091954022989,\n",
       " 26.25: 11.042821158690176,\n",
       " 26.75: 11.01310615989515,\n",
       " 27.25: 10.916265640038498,\n",
       " 27.75: 10.83159268929504}"
      ]
     },
     "execution_count": 15,
     "metadata": {},
     "output_type": "execute_result"
    }
   ],
   "source": [
    "result"
   ]
  },
  {
   "cell_type": "code",
   "execution_count": 16,
   "metadata": {},
   "outputs": [
    {
     "data": {
      "text/plain": [
       "15000"
      ]
     },
     "execution_count": 16,
     "metadata": {},
     "output_type": "execute_result"
    }
   ],
   "source": [
    "i"
   ]
  },
  {
   "cell_type": "code",
   "execution_count": null,
   "metadata": {},
   "outputs": [],
   "source": []
  }
 ],
 "metadata": {
  "anaconda-cloud": {},
  "kernelspec": {
   "display_name": "Python [Root]",
   "language": "python",
   "name": "Python [Root]"
  },
  "language_info": {
   "codemirror_mode": {
    "name": "ipython",
    "version": 3
   },
   "file_extension": ".py",
   "mimetype": "text/x-python",
   "name": "python",
   "nbconvert_exporter": "python",
   "pygments_lexer": "ipython3",
   "version": "3.5.1"
  }
 },
 "nbformat": 4,
 "nbformat_minor": 1
}
