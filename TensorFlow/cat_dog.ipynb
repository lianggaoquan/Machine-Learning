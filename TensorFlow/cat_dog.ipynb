{
 "cells": [
  {
   "cell_type": "code",
   "execution_count": 1,
   "metadata": {},
   "outputs": [],
   "source": [
    "import numpy as np\n",
    "import h5py\n",
    "from sklearn.utils import shuffle\n",
    "np.random.seed(2017)\n",
    "\n",
    "X_train = []\n",
    "X_test = []"
   ]
  },
  {
   "cell_type": "code",
   "execution_count": 2,
   "metadata": {},
   "outputs": [],
   "source": [
    "filename = \"D:/文件/Machine Learning/kaggle数据集/gap_VGG16.h5\"\n",
    "\n",
    "with h5py.File(filename,'r') as h:\n",
    "    X_train.append(np.array(h[\"train\"]))\n",
    "    X_test.append(np.array(h[\"test\"]))\n",
    "    y_train = np.array(h[\"label\"])\n",
    "\n",
    "X_train = np.concatenate(X_train,axis=1)\n",
    "X_test = np.concatenate(X_test,axis=1)\n",
    "\n",
    "X_train,y_train = shuffle(X_train,y_train)"
   ]
  },
  {
   "cell_type": "code",
   "execution_count": 3,
   "metadata": {},
   "outputs": [],
   "source": [
    "import tensorflow as tf"
   ]
  },
  {
   "cell_type": "code",
   "execution_count": 4,
   "metadata": {},
   "outputs": [],
   "source": [
    "y_train = y_train.reshape(y_train.shape[0],1)"
   ]
  },
  {
   "cell_type": "code",
   "execution_count": 5,
   "metadata": {},
   "outputs": [],
   "source": [
    "X = tf.placeholder(tf.float32,[None,X_train.shape[1]],name = 'X')\n",
    "y = tf.placeholder(tf.float32,[None,y_train.shape[1]],name = 'y')"
   ]
  },
  {
   "cell_type": "code",
   "execution_count": 6,
   "metadata": {},
   "outputs": [],
   "source": [
    "# build the model\n",
    "def model(x):\n",
    "    h1 = tf.layers.dense(x,128,activation=tf.nn.relu)\n",
    "    h2 = tf.layers.dense(h1,64,activation=tf.nn.relu)\n",
    "    logit = tf.layers.dense(x,1)\n",
    "    out = tf.nn.sigmoid(logit)\n",
    "    return logit,out"
   ]
  },
  {
   "cell_type": "code",
   "execution_count": 7,
   "metadata": {},
   "outputs": [],
   "source": [
    "logit,y_ = model(X)\n",
    "loss = tf.reduce_mean(tf.nn.sigmoid_cross_entropy_with_logits(labels=y,logits=logit))\n",
    "\n",
    "train = tf.train.AdamOptimizer(1e-5).minimize(loss)"
   ]
  },
  {
   "cell_type": "code",
   "execution_count": 8,
   "metadata": {},
   "outputs": [],
   "source": [
    "def iterate_minibatches(inputs, targets, batchsize, shuffle=False):\n",
    "    assert inputs.shape[0] == targets.shape[0]\n",
    "    if shuffle:\n",
    "        indices = np.arange(inputs.shape[0])\n",
    "        np.random.shuffle(indices)\n",
    "    for start_idx in range(0, inputs.shape[0] - batchsize + 1, batchsize):\n",
    "        if shuffle:\n",
    "            excerpt = indices[start_idx:start_idx + batchsize]\n",
    "        else:\n",
    "            excerpt = slice(start_idx, start_idx + batchsize)\n",
    "        yield inputs[excerpt], targets[excerpt]"
   ]
  },
  {
   "cell_type": "code",
   "execution_count": 9,
   "metadata": {},
   "outputs": [
    {
     "name": "stdout",
     "output_type": "stream",
     "text": [
      "loss:  1.230861\n",
      "loss:  0.8242398\n",
      "loss:  0.7477151\n",
      "loss:  0.5118121\n",
      "loss:  0.24698664\n",
      "loss:  0.35162014\n",
      "loss:  0.28743434\n",
      "loss:  0.2760066\n",
      "loss:  0.18718821\n",
      "loss:  0.25746027\n",
      "loss:  0.10535043\n",
      "loss:  0.17988344\n",
      "loss:  0.16789982\n",
      "loss:  0.1355131\n",
      "loss:  0.15353546\n",
      "loss:  0.20687614\n",
      "loss:  0.10581845\n",
      "loss:  0.12169994\n",
      "loss:  0.113557816\n",
      "loss:  0.11078204\n"
     ]
    }
   ],
   "source": [
    "with tf.Session() as sess:\n",
    "    sess.run(tf.global_variables_initializer())\n",
    "    cost = []\n",
    "    \n",
    "    for e in range(100):\n",
    "        for batch in iterate_minibatches(X_train,y_train,batchsize=128,shuffle=True):\n",
    "            X_batch,y_batch = batch\n",
    "            sess.run(train,feed_dict={X:X_batch,y:y_batch})\n",
    "        \n",
    "            loss_ = sess.run(loss,feed_dict={X:X_batch,y:y_batch})\n",
    "            \n",
    "        if e % 5 == 0:\n",
    "            cost.append(loss_)\n",
    "            print('loss: ',loss_)\n",
    "    classification = sess.run(y_,feed_dict={X:X_test})\n",
    "    "
   ]
  },
  {
   "cell_type": "code",
   "execution_count": 10,
   "metadata": {},
   "outputs": [
    {
     "data": {
      "image/png": "[encoded data removed]",
      "text/plain": [
       "<matplotlib.figure.Figure at 0x19e8b1c7748>"
      ]
     },
     "metadata": {},
     "output_type": "display_data"
    }
   ],
   "source": [
    "import matplotlib.pyplot as plt\n",
    "%matplotlib inline\n",
    "plt.plot(cost,'r-')\n",
    "plt.show()"
   ]
  },
  {
   "cell_type": "code",
   "execution_count": 18,
   "metadata": {},
   "outputs": [
    {
     "data": {
      "text/plain": [
       "(12500, 1)"
      ]
     },
     "execution_count": 18,
     "metadata": {},
     "output_type": "execute_result"
    }
   ],
   "source": [
    "classification.shape"
   ]
  },
  {
   "cell_type": "code",
   "execution_count": 19,
   "metadata": {},
   "outputs": [
    {
     "data": {
      "text/plain": [
       "array([[1.2949235e-07],\n",
       "       [4.6843791e-04],\n",
       "       [1.0000000e+00],\n",
       "       [1.0000000e+00],\n",
       "       [3.0015858e-06],\n",
       "       [1.3265879e-06],\n",
       "       [9.9999940e-01],\n",
       "       [9.9999988e-01],\n",
       "       [2.4065177e-09]], dtype=float32)"
      ]
     },
     "execution_count": 19,
     "metadata": {},
     "output_type": "execute_result"
    }
   ],
   "source": [
    "classification[1:10,:]"
   ]
  },
  {
   "cell_type": "code",
   "execution_count": null,
   "metadata": {},
   "outputs": [],
   "source": []
  }
 ],
 "metadata": {
  "anaconda-cloud": {},
  "kernelspec": {
   "display_name": "Python [Root]",
   "language": "python",
   "name": "Python [Root]"
  },
  "language_info": {
   "codemirror_mode": {
    "name": "ipython",
    "version": 3
   },
   "file_extension": ".py",
   "mimetype": "text/x-python",
   "name": "python",
   "nbconvert_exporter": "python",
   "pygments_lexer": "ipython3",
   "version": "3.5.1"
  }
 },
 "nbformat": 4,
 "nbformat_minor": 1
}
