{
  "nbformat": 4,
  "nbformat_minor": 0,
  "metadata": {
    "colab": {
      "name": "Flowers.ipynb",
      "version": "0.3.2",
      "provenance": [],
      "collapsed_sections": [],
      "toc_visible": true
    },
    "kernelspec": {
      "name": "python3",
      "display_name": "Python 3"
    },
    "accelerator": "GPU"
  },
  "cells": [
    {
      "metadata": {
        "id": "pq35Hi-auwNJ",
        "colab_type": "code",
        "colab": {
          "base_uri": "https://localhost:8080/",
          "height": 35
        },
        "outputId": "4428e0b1-05ed-4933-d145-8bb16362aee8"
      },
      "cell_type": "code",
      "source": [
        "import os\n",
        "path = 'flower_images/'\n",
        "names = sorted(os.listdir(path))\n",
        "len(names)"
      ],
      "execution_count": 1,
      "outputs": [
        {
          "output_type": "execute_result",
          "data": {
            "text/plain": [
              "211"
            ]
          },
          "metadata": {
            "tags": []
          },
          "execution_count": 1
        }
      ]
    },
    {
      "metadata": {
        "id": "dDDtKDk5NkHU",
        "colab_type": "code",
        "colab": {
          "base_uri": "https://localhost:8080/",
          "height": 202
        },
        "outputId": "24c778a3-6d99-4e87-e5b7-74c2b64f7fd1"
      },
      "cell_type": "code",
      "source": [
        "import pandas as pd\n",
        "df = pd.read_csv(os.path.join(path,names[-1]))\n",
        "df.head()"
      ],
      "execution_count": 2,
      "outputs": [
        {
          "output_type": "execute_result",
          "data": {
            "text/html": [
              "<div>\n",
              "<style scoped>\n",
              "    .dataframe tbody tr th:only-of-type {\n",
              "        vertical-align: middle;\n",
              "    }\n",
              "\n",
              "    .dataframe tbody tr th {\n",
              "        vertical-align: top;\n",
              "    }\n",
              "\n",
              "    .dataframe thead th {\n",
              "        text-align: right;\n",
              "    }\n",
              "</style>\n",
              "<table border=\"1\" class=\"dataframe\">\n",
              "  <thead>\n",
              "    <tr style=\"text-align: right;\">\n",
              "      <th></th>\n",
              "      <th>file</th>\n",
              "      <th>label</th>\n",
              "    </tr>\n",
              "  </thead>\n",
              "  <tbody>\n",
              "    <tr>\n",
              "      <th>0</th>\n",
              "      <td>0001.png</td>\n",
              "      <td>0</td>\n",
              "    </tr>\n",
              "    <tr>\n",
              "      <th>1</th>\n",
              "      <td>0002.png</td>\n",
              "      <td>0</td>\n",
              "    </tr>\n",
              "    <tr>\n",
              "      <th>2</th>\n",
              "      <td>0003.png</td>\n",
              "      <td>2</td>\n",
              "    </tr>\n",
              "    <tr>\n",
              "      <th>3</th>\n",
              "      <td>0004.png</td>\n",
              "      <td>0</td>\n",
              "    </tr>\n",
              "    <tr>\n",
              "      <th>4</th>\n",
              "      <td>0005.png</td>\n",
              "      <td>0</td>\n",
              "    </tr>\n",
              "  </tbody>\n",
              "</table>\n",
              "</div>"
            ],
            "text/plain": [
              "       file  label\n",
              "0  0001.png      0\n",
              "1  0002.png      0\n",
              "2  0003.png      2\n",
              "3  0004.png      0\n",
              "4  0005.png      0"
            ]
          },
          "metadata": {
            "tags": []
          },
          "execution_count": 2
        }
      ]
    },
    {
      "metadata": {
        "id": "GHTe2UygNm0T",
        "colab_type": "code",
        "colab": {}
      },
      "cell_type": "code",
      "source": [
        "dic = df.to_dict('index')\n",
        "raw_data = []\n",
        "for val in dic.values():\n",
        "    raw_data.append(val)\n"
      ],
      "execution_count": 0,
      "outputs": []
    },
    {
      "metadata": {
        "id": "_0FimKJ_NuoK",
        "colab_type": "code",
        "colab": {}
      },
      "cell_type": "code",
      "source": [
        "from tensorflow.python.keras.applications.resnet50 import ResNet50\n",
        "from tensorflow.python.keras.preprocessing import image\n",
        "from tensorflow.python.keras.applications.resnet50 import preprocess_input, decode_predictions\n",
        "import numpy as np"
      ],
      "execution_count": 0,
      "outputs": []
    },
    {
      "metadata": {
        "id": "3rUtg3IRNzZd",
        "colab_type": "code",
        "colab": {}
      },
      "cell_type": "code",
      "source": [
        "data = []\n",
        "for e in raw_data:\n",
        "    temp = {}\n",
        "    img_path = os.path.join(path,e['file'])\n",
        "    img = image.load_img(img_path,target_size=(224,224))\n",
        "    x = image.img_to_array(img)\n",
        "    \n",
        "    temp['array'] = x\n",
        "    temp['label'] = e['label']\n",
        "    data.append(temp)"
      ],
      "execution_count": 0,
      "outputs": []
    },
    {
      "metadata": {
        "id": "s_EcAB_dN2yL",
        "colab_type": "code",
        "colab": {}
      },
      "cell_type": "code",
      "source": [
        "X = []\n",
        "y = []\n",
        "for i in range(len(data)):\n",
        "    X.append(data[i]['array'])\n",
        "\n",
        "for j in range(len(data)):\n",
        "    y.append(data[i]['label'])\n",
        "\n",
        "X = np.array(X)\n",
        "X = X.reshape(X.shape[0],224,224,3)\n",
        "y = np.array(y)\n",
        "y = y.reshape(y.shape[0],1)"
      ],
      "execution_count": 0,
      "outputs": []
    },
    {
      "metadata": {
        "id": "QMKNr4GrN5_r",
        "colab_type": "code",
        "colab": {
          "base_uri": "https://localhost:8080/",
          "height": 35
        },
        "outputId": "40b3496c-5213-4a24-f294-e1f076946ad3"
      },
      "cell_type": "code",
      "source": [
        "final_data = np.array(list(zip(X,y)))\n",
        "train_size = int(0.85*final_data.shape[0])\n",
        "np.random.shuffle(final_data)\n",
        "\n",
        "X_train = []\n",
        "for i in range(train_size):\n",
        "    X_train.append(final_data[:train_size,0][i])\n",
        "X_train = np.array(X_train)\n",
        "\n",
        "y_train = final_data[:train_size,1]\n",
        "y_train = y_train.reshape(y_train.shape[0],1)\n",
        "\n",
        "X_test = []\n",
        "for j in range(final_data.shape[0] - train_size):\n",
        "    X_test.append(final_data[train_size:,0][j])\n",
        "\n",
        "X_test = np.array(X_test)\n",
        "y_test = final_data[train_size:,1]\n",
        "y_test = y_test.reshape(y_test.shape[0],1)\n",
        "X_test.shape"
      ],
      "execution_count": 7,
      "outputs": [
        {
          "output_type": "execute_result",
          "data": {
            "text/plain": [
              "(32, 224, 224, 3)"
            ]
          },
          "metadata": {
            "tags": []
          },
          "execution_count": 7
        }
      ]
    },
    {
      "metadata": {
        "id": "5UOWgAHGN_Gr",
        "colab_type": "code",
        "colab": {}
      },
      "cell_type": "code",
      "source": [
        "base_model = ResNet50(weights='imagenet',include_top=False)"
      ],
      "execution_count": 0,
      "outputs": []
    },
    {
      "metadata": {
        "id": "1DtycSXuPzgr",
        "colab_type": "code",
        "colab": {}
      },
      "cell_type": "code",
      "source": [
        "from tensorflow.python.keras.layers import *\n",
        "from tensorflow.python.keras.models import Model"
      ],
      "execution_count": 0,
      "outputs": []
    },
    {
      "metadata": {
        "id": "tIwziz2MOK7I",
        "colab_type": "code",
        "colab": {}
      },
      "cell_type": "code",
      "source": [
        "x = base_model.output\n",
        "x = GlobalAveragePooling2D()(x)\n",
        "x = Dense(1024, activation='relu')(x)\n",
        "pred = Dense(10,activation='softmax')(x)"
      ],
      "execution_count": 0,
      "outputs": []
    },
    {
      "metadata": {
        "id": "uGrAduG2PwjJ",
        "colab_type": "code",
        "colab": {
          "base_uri": "https://localhost:8080/",
          "height": 3203
        },
        "outputId": "b51089c8-e7b8-4e7d-d46f-c826845188d3"
      },
      "cell_type": "code",
      "source": [
        "model = Model(inputs=base_model.input,outputs=pred)\n",
        "for i, layer in enumerate(model.layers):\n",
        "   print(i, layer.name)"
      ],
      "execution_count": 11,
      "outputs": [
        {
          "output_type": "stream",
          "text": [
            "0 input_1\n",
            "1 conv1\n",
            "2 bn_conv1\n",
            "3 activation\n",
            "4 max_pooling2d\n",
            "5 res2a_branch2a\n",
            "6 bn2a_branch2a\n",
            "7 activation_1\n",
            "8 res2a_branch2b\n",
            "9 bn2a_branch2b\n",
            "10 activation_2\n",
            "11 res2a_branch2c\n",
            "12 res2a_branch1\n",
            "13 bn2a_branch2c\n",
            "14 bn2a_branch1\n",
            "15 add\n",
            "16 activation_3\n",
            "17 res2b_branch2a\n",
            "18 bn2b_branch2a\n",
            "19 activation_4\n",
            "20 res2b_branch2b\n",
            "21 bn2b_branch2b\n",
            "22 activation_5\n",
            "23 res2b_branch2c\n",
            "24 bn2b_branch2c\n",
            "25 add_1\n",
            "26 activation_6\n",
            "27 res2c_branch2a\n",
            "28 bn2c_branch2a\n",
            "29 activation_7\n",
            "30 res2c_branch2b\n",
            "31 bn2c_branch2b\n",
            "32 activation_8\n",
            "33 res2c_branch2c\n",
            "34 bn2c_branch2c\n",
            "35 add_2\n",
            "36 activation_9\n",
            "37 res3a_branch2a\n",
            "38 bn3a_branch2a\n",
            "39 activation_10\n",
            "40 res3a_branch2b\n",
            "41 bn3a_branch2b\n",
            "42 activation_11\n",
            "43 res3a_branch2c\n",
            "44 res3a_branch1\n",
            "45 bn3a_branch2c\n",
            "46 bn3a_branch1\n",
            "47 add_3\n",
            "48 activation_12\n",
            "49 res3b_branch2a\n",
            "50 bn3b_branch2a\n",
            "51 activation_13\n",
            "52 res3b_branch2b\n",
            "53 bn3b_branch2b\n",
            "54 activation_14\n",
            "55 res3b_branch2c\n",
            "56 bn3b_branch2c\n",
            "57 add_4\n",
            "58 activation_15\n",
            "59 res3c_branch2a\n",
            "60 bn3c_branch2a\n",
            "61 activation_16\n",
            "62 res3c_branch2b\n",
            "63 bn3c_branch2b\n",
            "64 activation_17\n",
            "65 res3c_branch2c\n",
            "66 bn3c_branch2c\n",
            "67 add_5\n",
            "68 activation_18\n",
            "69 res3d_branch2a\n",
            "70 bn3d_branch2a\n",
            "71 activation_19\n",
            "72 res3d_branch2b\n",
            "73 bn3d_branch2b\n",
            "74 activation_20\n",
            "75 res3d_branch2c\n",
            "76 bn3d_branch2c\n",
            "77 add_6\n",
            "78 activation_21\n",
            "79 res4a_branch2a\n",
            "80 bn4a_branch2a\n",
            "81 activation_22\n",
            "82 res4a_branch2b\n",
            "83 bn4a_branch2b\n",
            "84 activation_23\n",
            "85 res4a_branch2c\n",
            "86 res4a_branch1\n",
            "87 bn4a_branch2c\n",
            "88 bn4a_branch1\n",
            "89 add_7\n",
            "90 activation_24\n",
            "91 res4b_branch2a\n",
            "92 bn4b_branch2a\n",
            "93 activation_25\n",
            "94 res4b_branch2b\n",
            "95 bn4b_branch2b\n",
            "96 activation_26\n",
            "97 res4b_branch2c\n",
            "98 bn4b_branch2c\n",
            "99 add_8\n",
            "100 activation_27\n",
            "101 res4c_branch2a\n",
            "102 bn4c_branch2a\n",
            "103 activation_28\n",
            "104 res4c_branch2b\n",
            "105 bn4c_branch2b\n",
            "106 activation_29\n",
            "107 res4c_branch2c\n",
            "108 bn4c_branch2c\n",
            "109 add_9\n",
            "110 activation_30\n",
            "111 res4d_branch2a\n",
            "112 bn4d_branch2a\n",
            "113 activation_31\n",
            "114 res4d_branch2b\n",
            "115 bn4d_branch2b\n",
            "116 activation_32\n",
            "117 res4d_branch2c\n",
            "118 bn4d_branch2c\n",
            "119 add_10\n",
            "120 activation_33\n",
            "121 res4e_branch2a\n",
            "122 bn4e_branch2a\n",
            "123 activation_34\n",
            "124 res4e_branch2b\n",
            "125 bn4e_branch2b\n",
            "126 activation_35\n",
            "127 res4e_branch2c\n",
            "128 bn4e_branch2c\n",
            "129 add_11\n",
            "130 activation_36\n",
            "131 res4f_branch2a\n",
            "132 bn4f_branch2a\n",
            "133 activation_37\n",
            "134 res4f_branch2b\n",
            "135 bn4f_branch2b\n",
            "136 activation_38\n",
            "137 res4f_branch2c\n",
            "138 bn4f_branch2c\n",
            "139 add_12\n",
            "140 activation_39\n",
            "141 res5a_branch2a\n",
            "142 bn5a_branch2a\n",
            "143 activation_40\n",
            "144 res5a_branch2b\n",
            "145 bn5a_branch2b\n",
            "146 activation_41\n",
            "147 res5a_branch2c\n",
            "148 res5a_branch1\n",
            "149 bn5a_branch2c\n",
            "150 bn5a_branch1\n",
            "151 add_13\n",
            "152 activation_42\n",
            "153 res5b_branch2a\n",
            "154 bn5b_branch2a\n",
            "155 activation_43\n",
            "156 res5b_branch2b\n",
            "157 bn5b_branch2b\n",
            "158 activation_44\n",
            "159 res5b_branch2c\n",
            "160 bn5b_branch2c\n",
            "161 add_14\n",
            "162 activation_45\n",
            "163 res5c_branch2a\n",
            "164 bn5c_branch2a\n",
            "165 activation_46\n",
            "166 res5c_branch2b\n",
            "167 bn5c_branch2b\n",
            "168 activation_47\n",
            "169 res5c_branch2c\n",
            "170 bn5c_branch2c\n",
            "171 add_15\n",
            "172 activation_48\n",
            "173 avg_pool\n",
            "174 global_average_pooling2d\n",
            "175 dense\n",
            "176 dense_1\n"
          ],
          "name": "stdout"
        }
      ]
    },
    {
      "metadata": {
        "id": "uDfz8oFBQOr8",
        "colab_type": "code",
        "colab": {}
      },
      "cell_type": "code",
      "source": [
        "for layer in model.layers[:175]:\n",
        "  layer.trainable = False\n",
        "\n",
        "for layer in model.layers[175:]:\n",
        "  layer.trainable = True"
      ],
      "execution_count": 0,
      "outputs": []
    },
    {
      "metadata": {
        "id": "Toi14winQcKK",
        "colab_type": "code",
        "colab": {}
      },
      "cell_type": "code",
      "source": [
        "model.compile(optimizer='rmsprop', loss='categorical_crossentropy',metrics=['accuracy'])"
      ],
      "execution_count": 0,
      "outputs": []
    },
    {
      "metadata": {
        "id": "LKlZ4RxgQh7q",
        "colab_type": "code",
        "colab": {}
      },
      "cell_type": "code",
      "source": [
        "from tensorflow.python.keras.utils import to_categorical\n",
        "y_train = to_categorical(y_train,num_classes=10)\n",
        "y_test = to_categorical(y_test,num_classes=10)"
      ],
      "execution_count": 0,
      "outputs": []
    },
    {
      "metadata": {
        "id": "4Hyib_LtRUxb",
        "colab_type": "code",
        "colab": {
          "base_uri": "https://localhost:8080/",
          "height": 53
        },
        "outputId": "9f7b0c19-b521-4953-a54c-d45ee6debdcf"
      },
      "cell_type": "code",
      "source": [
        "model.evaluate(X_test,y_test)"
      ],
      "execution_count": 15,
      "outputs": [
        {
          "output_type": "stream",
          "text": [
            "\r32/32 [==============================] - 2s 70ms/step\n"
          ],
          "name": "stdout"
        },
        {
          "output_type": "execute_result",
          "data": {
            "text/plain": [
              "[2.2813310623168945, 0.09375]"
            ]
          },
          "metadata": {
            "tags": []
          },
          "execution_count": 15
        }
      ]
    },
    {
      "metadata": {
        "id": "YUNUzcztQ2zb",
        "colab_type": "code",
        "colab": {
          "base_uri": "https://localhost:8080/",
          "height": 3617
        },
        "outputId": "a347fb9d-6238-4c66-e092-8e13cb9e9285"
      },
      "cell_type": "code",
      "source": [
        "hist = model.fit(X_train,y_train,epochs=10,batch_size=4)"
      ],
      "execution_count": 16,
      "outputs": [
        {
          "output_type": "stream",
          "text": [
            "Epoch 1/100\n",
            "178/178 [==============================] - 4s 23ms/step - loss: 0.0434 - acc: 0.9831\n",
            "Epoch 2/100\n",
            "178/178 [==============================] - 3s 15ms/step - loss: 1.1921e-07 - acc: 1.0000\n",
            "Epoch 3/100\n",
            "178/178 [==============================] - 3s 15ms/step - loss: 1.1921e-07 - acc: 1.0000\n",
            "Epoch 4/100\n",
            "178/178 [==============================] - 3s 15ms/step - loss: 1.1921e-07 - acc: 1.0000\n",
            "Epoch 5/100\n",
            "178/178 [==============================] - 3s 15ms/step - loss: 1.1921e-07 - acc: 1.0000\n",
            "Epoch 6/100\n",
            "178/178 [==============================] - 3s 15ms/step - loss: 1.1921e-07 - acc: 1.0000\n",
            "Epoch 7/100\n",
            "178/178 [==============================] - 3s 15ms/step - loss: 1.1921e-07 - acc: 1.0000\n",
            "Epoch 8/100\n",
            "178/178 [==============================] - 3s 15ms/step - loss: 1.1921e-07 - acc: 1.0000\n",
            "Epoch 9/100\n",
            "178/178 [==============================] - 3s 15ms/step - loss: 1.1921e-07 - acc: 1.0000\n",
            "Epoch 10/100\n",
            "178/178 [==============================] - 3s 15ms/step - loss: 1.1921e-07 - acc: 1.0000\n",
            "Epoch 11/100\n",
            "178/178 [==============================] - 3s 15ms/step - loss: 1.1921e-07 - acc: 1.0000\n",
            "Epoch 12/100\n",
            "178/178 [==============================] - 3s 15ms/step - loss: 1.1921e-07 - acc: 1.0000\n",
            "Epoch 13/100\n",
            "178/178 [==============================] - 3s 15ms/step - loss: 1.1921e-07 - acc: 1.0000\n",
            "Epoch 14/100\n",
            "178/178 [==============================] - 3s 15ms/step - loss: 1.1921e-07 - acc: 1.0000\n",
            "Epoch 15/100\n",
            "178/178 [==============================] - 3s 15ms/step - loss: 1.1921e-07 - acc: 1.0000\n",
            "Epoch 16/100\n",
            "178/178 [==============================] - 3s 15ms/step - loss: 1.1921e-07 - acc: 1.0000\n",
            "Epoch 17/100\n",
            "178/178 [==============================] - 3s 15ms/step - loss: 1.1921e-07 - acc: 1.0000\n",
            "Epoch 18/100\n",
            "178/178 [==============================] - 3s 15ms/step - loss: 1.1921e-07 - acc: 1.0000\n",
            "Epoch 19/100\n",
            "178/178 [==============================] - 3s 15ms/step - loss: 1.1921e-07 - acc: 1.0000\n",
            "Epoch 20/100\n",
            "178/178 [==============================] - 3s 15ms/step - loss: 1.1921e-07 - acc: 1.0000\n",
            "Epoch 21/100\n",
            "178/178 [==============================] - 3s 15ms/step - loss: 1.1921e-07 - acc: 1.0000\n",
            "Epoch 22/100\n",
            "178/178 [==============================] - 3s 15ms/step - loss: 1.1921e-07 - acc: 1.0000\n",
            "Epoch 23/100\n",
            "178/178 [==============================] - 3s 15ms/step - loss: 1.1921e-07 - acc: 1.0000\n",
            "Epoch 24/100\n",
            "178/178 [==============================] - 3s 15ms/step - loss: 1.1921e-07 - acc: 1.0000\n",
            "Epoch 25/100\n",
            "178/178 [==============================] - 3s 15ms/step - loss: 1.1921e-07 - acc: 1.0000\n",
            "Epoch 26/100\n",
            "178/178 [==============================] - 3s 15ms/step - loss: 1.1921e-07 - acc: 1.0000\n",
            "Epoch 27/100\n",
            "178/178 [==============================] - 3s 15ms/step - loss: 1.1921e-07 - acc: 1.0000\n",
            "Epoch 28/100\n",
            "178/178 [==============================] - 3s 15ms/step - loss: 1.1921e-07 - acc: 1.0000\n",
            "Epoch 29/100\n",
            "178/178 [==============================] - 3s 15ms/step - loss: 1.1921e-07 - acc: 1.0000\n",
            "Epoch 30/100\n",
            "178/178 [==============================] - 3s 15ms/step - loss: 1.1921e-07 - acc: 1.0000\n",
            "Epoch 31/100\n",
            "178/178 [==============================] - 3s 15ms/step - loss: 1.1921e-07 - acc: 1.0000\n",
            "Epoch 32/100\n",
            "178/178 [==============================] - 3s 15ms/step - loss: 1.1921e-07 - acc: 1.0000\n",
            "Epoch 33/100\n",
            "178/178 [==============================] - 3s 15ms/step - loss: 1.1921e-07 - acc: 1.0000\n",
            "Epoch 34/100\n",
            "178/178 [==============================] - 3s 15ms/step - loss: 1.1921e-07 - acc: 1.0000\n",
            "Epoch 35/100\n",
            "178/178 [==============================] - 3s 15ms/step - loss: 1.1921e-07 - acc: 1.0000\n",
            "Epoch 36/100\n",
            "178/178 [==============================] - 3s 15ms/step - loss: 1.1921e-07 - acc: 1.0000\n",
            "Epoch 37/100\n",
            "178/178 [==============================] - 3s 15ms/step - loss: 1.1921e-07 - acc: 1.0000\n",
            "Epoch 38/100\n",
            "178/178 [==============================] - 3s 15ms/step - loss: 1.1921e-07 - acc: 1.0000\n",
            "Epoch 39/100\n",
            "178/178 [==============================] - 3s 15ms/step - loss: 1.1921e-07 - acc: 1.0000\n",
            "Epoch 40/100\n",
            "178/178 [==============================] - 3s 15ms/step - loss: 1.1921e-07 - acc: 1.0000\n",
            "Epoch 41/100\n",
            "178/178 [==============================] - 3s 15ms/step - loss: 1.1921e-07 - acc: 1.0000\n",
            "Epoch 42/100\n",
            "178/178 [==============================] - 3s 15ms/step - loss: 1.1921e-07 - acc: 1.0000\n",
            "Epoch 43/100\n",
            "178/178 [==============================] - 3s 15ms/step - loss: 1.1921e-07 - acc: 1.0000\n",
            "Epoch 44/100\n",
            "178/178 [==============================] - 3s 15ms/step - loss: 1.1921e-07 - acc: 1.0000\n",
            "Epoch 45/100\n",
            "178/178 [==============================] - 3s 15ms/step - loss: 1.1921e-07 - acc: 1.0000\n",
            "Epoch 46/100\n",
            "178/178 [==============================] - 3s 15ms/step - loss: 1.1921e-07 - acc: 1.0000\n",
            "Epoch 47/100\n",
            "178/178 [==============================] - 3s 15ms/step - loss: 1.1921e-07 - acc: 1.0000\n",
            "Epoch 48/100\n",
            "178/178 [==============================] - 3s 15ms/step - loss: 1.1921e-07 - acc: 1.0000\n",
            "Epoch 49/100\n",
            "178/178 [==============================] - 3s 15ms/step - loss: 1.1921e-07 - acc: 1.0000\n",
            "Epoch 50/100\n",
            "178/178 [==============================] - 3s 15ms/step - loss: 1.1921e-07 - acc: 1.0000\n",
            "Epoch 51/100\n",
            "178/178 [==============================] - 3s 15ms/step - loss: 1.1921e-07 - acc: 1.0000\n",
            "Epoch 52/100\n",
            "178/178 [==============================] - 3s 15ms/step - loss: 1.1921e-07 - acc: 1.0000\n",
            "Epoch 53/100\n",
            "178/178 [==============================] - 3s 15ms/step - loss: 1.1921e-07 - acc: 1.0000\n",
            "Epoch 54/100\n",
            "178/178 [==============================] - 3s 15ms/step - loss: 1.1921e-07 - acc: 1.0000\n",
            "Epoch 55/100\n",
            "178/178 [==============================] - 3s 15ms/step - loss: 1.1921e-07 - acc: 1.0000\n",
            "Epoch 56/100\n",
            "178/178 [==============================] - 3s 15ms/step - loss: 1.1921e-07 - acc: 1.0000\n",
            "Epoch 57/100\n",
            "178/178 [==============================] - 3s 15ms/step - loss: 1.1921e-07 - acc: 1.0000\n",
            "Epoch 58/100\n",
            "178/178 [==============================] - 3s 15ms/step - loss: 1.1921e-07 - acc: 1.0000\n",
            "Epoch 59/100\n",
            "178/178 [==============================] - 3s 15ms/step - loss: 1.1921e-07 - acc: 1.0000\n",
            "Epoch 60/100\n",
            "178/178 [==============================] - 3s 15ms/step - loss: 1.1921e-07 - acc: 1.0000\n",
            "Epoch 61/100\n",
            "178/178 [==============================] - 3s 15ms/step - loss: 1.1921e-07 - acc: 1.0000\n",
            "Epoch 62/100\n",
            "178/178 [==============================] - 3s 15ms/step - loss: 1.1921e-07 - acc: 1.0000\n",
            "Epoch 63/100\n",
            "178/178 [==============================] - 3s 15ms/step - loss: 1.1921e-07 - acc: 1.0000\n",
            "Epoch 64/100\n",
            "178/178 [==============================] - 3s 15ms/step - loss: 1.1921e-07 - acc: 1.0000\n",
            "Epoch 65/100\n",
            "178/178 [==============================] - 3s 15ms/step - loss: 1.1921e-07 - acc: 1.0000\n",
            "Epoch 66/100\n",
            "178/178 [==============================] - 3s 15ms/step - loss: 1.1921e-07 - acc: 1.0000\n",
            "Epoch 67/100\n",
            "178/178 [==============================] - 3s 15ms/step - loss: 1.1921e-07 - acc: 1.0000\n",
            "Epoch 68/100\n",
            "178/178 [==============================] - 3s 15ms/step - loss: 1.1921e-07 - acc: 1.0000\n",
            "Epoch 69/100\n",
            "178/178 [==============================] - 3s 15ms/step - loss: 1.1921e-07 - acc: 1.0000\n",
            "Epoch 70/100\n",
            "178/178 [==============================] - 3s 15ms/step - loss: 1.1921e-07 - acc: 1.0000\n",
            "Epoch 71/100\n",
            "178/178 [==============================] - 3s 15ms/step - loss: 1.1921e-07 - acc: 1.0000\n",
            "Epoch 72/100\n",
            "178/178 [==============================] - 3s 15ms/step - loss: 1.1921e-07 - acc: 1.0000\n",
            "Epoch 73/100\n",
            "178/178 [==============================] - 3s 15ms/step - loss: 1.1921e-07 - acc: 1.0000\n",
            "Epoch 74/100\n",
            "178/178 [==============================] - 3s 15ms/step - loss: 1.1921e-07 - acc: 1.0000\n",
            "Epoch 75/100\n",
            "178/178 [==============================] - 3s 15ms/step - loss: 1.1921e-07 - acc: 1.0000\n",
            "Epoch 76/100\n",
            "178/178 [==============================] - 3s 15ms/step - loss: 1.1921e-07 - acc: 1.0000\n",
            "Epoch 77/100\n",
            "178/178 [==============================] - 3s 15ms/step - loss: 1.1921e-07 - acc: 1.0000\n",
            "Epoch 78/100\n",
            "178/178 [==============================] - 3s 15ms/step - loss: 1.1921e-07 - acc: 1.0000\n",
            "Epoch 79/100\n",
            "178/178 [==============================] - 3s 15ms/step - loss: 1.1921e-07 - acc: 1.0000\n",
            "Epoch 80/100\n",
            "178/178 [==============================] - 3s 15ms/step - loss: 1.1921e-07 - acc: 1.0000\n",
            "Epoch 81/100\n",
            "178/178 [==============================] - 3s 15ms/step - loss: 1.1921e-07 - acc: 1.0000\n",
            "Epoch 82/100\n",
            "178/178 [==============================] - 3s 15ms/step - loss: 1.1921e-07 - acc: 1.0000\n",
            "Epoch 83/100\n",
            "178/178 [==============================] - 3s 15ms/step - loss: 1.1921e-07 - acc: 1.0000\n",
            "Epoch 84/100\n",
            "178/178 [==============================] - 3s 15ms/step - loss: 1.1921e-07 - acc: 1.0000\n",
            "Epoch 85/100\n",
            "178/178 [==============================] - 3s 15ms/step - loss: 1.1921e-07 - acc: 1.0000\n",
            "Epoch 86/100\n",
            "178/178 [==============================] - 3s 15ms/step - loss: 1.1921e-07 - acc: 1.0000\n",
            "Epoch 87/100\n",
            "178/178 [==============================] - 3s 15ms/step - loss: 1.1921e-07 - acc: 1.0000\n",
            "Epoch 88/100\n",
            "178/178 [==============================] - 3s 15ms/step - loss: 1.1921e-07 - acc: 1.0000\n",
            "Epoch 89/100\n",
            "178/178 [==============================] - 3s 15ms/step - loss: 1.1921e-07 - acc: 1.0000\n",
            "Epoch 90/100\n",
            "178/178 [==============================] - 3s 15ms/step - loss: 1.1921e-07 - acc: 1.0000\n",
            "Epoch 91/100\n",
            "178/178 [==============================] - 3s 15ms/step - loss: 1.1921e-07 - acc: 1.0000\n",
            "Epoch 92/100\n",
            "178/178 [==============================] - 3s 15ms/step - loss: 1.1921e-07 - acc: 1.0000\n",
            "Epoch 93/100\n",
            "178/178 [==============================] - 3s 15ms/step - loss: 1.1921e-07 - acc: 1.0000\n",
            "Epoch 94/100\n",
            "178/178 [==============================] - 3s 15ms/step - loss: 1.1921e-07 - acc: 1.0000\n",
            "Epoch 95/100\n",
            "178/178 [==============================] - 3s 15ms/step - loss: 1.1921e-07 - acc: 1.0000\n",
            "Epoch 96/100\n",
            "178/178 [==============================] - 3s 15ms/step - loss: 1.1921e-07 - acc: 1.0000\n",
            "Epoch 97/100\n",
            "178/178 [==============================] - 3s 15ms/step - loss: 1.1921e-07 - acc: 1.0000\n",
            "Epoch 98/100\n",
            "178/178 [==============================] - 3s 15ms/step - loss: 1.1921e-07 - acc: 1.0000\n",
            "Epoch 99/100\n",
            "178/178 [==============================] - 3s 15ms/step - loss: 1.1921e-07 - acc: 1.0000\n",
            "Epoch 100/100\n",
            "178/178 [==============================] - 3s 15ms/step - loss: 1.1921e-07 - acc: 1.0000\n"
          ],
          "name": "stdout"
        }
      ]
    },
    {
      "metadata": {
        "id": "Cl-VcrkGQ_B1",
        "colab_type": "code",
        "colab": {
          "base_uri": "https://localhost:8080/",
          "height": 53
        },
        "outputId": "0012b490-f182-4b12-90b1-9f9f387dcb02"
      },
      "cell_type": "code",
      "source": [
        "model.evaluate(X_test,y_test)"
      ],
      "execution_count": 17,
      "outputs": [
        {
          "output_type": "stream",
          "text": [
            "\r32/32 [==============================] - 0s 10ms/step\n"
          ],
          "name": "stdout"
        },
        {
          "output_type": "execute_result",
          "data": {
            "text/plain": [
              "[1.1920930376163597e-07, 1.0]"
            ]
          },
          "metadata": {
            "tags": []
          },
          "execution_count": 17
        }
      ]
    },
    {
      "metadata": {
        "id": "Oi6rCWJhSb0M",
        "colab_type": "code",
        "colab": {}
      },
      "cell_type": "code",
      "source": [
        "model.save('flower_model.h5')"
      ],
      "execution_count": 0,
      "outputs": []
    },
    {
      "metadata": {
        "id": "VOue-vCdSqNe",
        "colab_type": "code",
        "colab": {}
      },
      "cell_type": "code",
      "source": [
        "from tensorflow.python.keras.models import load_model\n",
        "m = load_model('flower_model.h5')"
      ],
      "execution_count": 0,
      "outputs": []
    },
    {
      "metadata": {
        "id": "uYKZgF0LS89x",
        "colab_type": "code",
        "colab": {
          "base_uri": "https://localhost:8080/",
          "height": 53
        },
        "outputId": "7bd454d4-62c1-4a1b-a83e-26a29a4dd945"
      },
      "cell_type": "code",
      "source": [
        "m.evaluate(X_test,y_test)"
      ],
      "execution_count": 21,
      "outputs": [
        {
          "output_type": "stream",
          "text": [
            "\r32/32 [==============================] - 1s 37ms/step\n"
          ],
          "name": "stdout"
        },
        {
          "output_type": "execute_result",
          "data": {
            "text/plain": [
              "[1.1920930376163597e-07, 1.0]"
            ]
          },
          "metadata": {
            "tags": []
          },
          "execution_count": 21
        }
      ]
    },
    {
      "metadata": {
        "id": "leYMFdiDTC4d",
        "colab_type": "code",
        "colab": {}
      },
      "cell_type": "code",
      "source": [
        "base_model.save('ResNet-base.h5')"
      ],
      "execution_count": 0,
      "outputs": []
    },
    {
      "metadata": {
        "id": "RWT_wo2HT1ex",
        "colab_type": "code",
        "colab": {
          "base_uri": "https://localhost:8080/",
          "height": 35
        },
        "outputId": "445a3a2a-0ac8-4736-d00c-eaebae866fe3"
      },
      "cell_type": "code",
      "source": [
        "t = load_model('ResNet-base.h5')"
      ],
      "execution_count": 23,
      "outputs": [
        {
          "output_type": "stream",
          "text": [
            "WARNING:tensorflow:No training configuration found in save file: the model was *not* compiled. Compile it manually.\n"
          ],
          "name": "stdout"
        }
      ]
    },
    {
      "metadata": {
        "id": "GWyHMKnCUBZC",
        "colab_type": "code",
        "colab": {
          "base_uri": "https://localhost:8080/",
          "height": 6695
        },
        "outputId": "11a5d7e1-fdc6-4256-a185-62bca948a330"
      },
      "cell_type": "code",
      "source": [
        "t.summary()"
      ],
      "execution_count": 24,
      "outputs": [
        {
          "output_type": "stream",
          "text": [
            "__________________________________________________________________________________________________\n",
            "Layer (type)                    Output Shape         Param #     Connected to                     \n",
            "==================================================================================================\n",
            "input_1 (InputLayer)            (None, None, None, 3 0                                            \n",
            "__________________________________________________________________________________________________\n",
            "conv1 (Conv2D)                  (None, None, None, 6 9472        input_1[0][0]                    \n",
            "__________________________________________________________________________________________________\n",
            "bn_conv1 (BatchNormalization)   (None, None, None, 6 256         conv1[0][0]                      \n",
            "__________________________________________________________________________________________________\n",
            "activation (Activation)         (None, None, None, 6 0           bn_conv1[0][0]                   \n",
            "__________________________________________________________________________________________________\n",
            "max_pooling2d (MaxPooling2D)    (None, None, None, 6 0           activation[0][0]                 \n",
            "__________________________________________________________________________________________________\n",
            "res2a_branch2a (Conv2D)         (None, None, None, 6 4160        max_pooling2d[0][0]              \n",
            "__________________________________________________________________________________________________\n",
            "bn2a_branch2a (BatchNormalizati (None, None, None, 6 256         res2a_branch2a[0][0]             \n",
            "__________________________________________________________________________________________________\n",
            "activation_1 (Activation)       (None, None, None, 6 0           bn2a_branch2a[0][0]              \n",
            "__________________________________________________________________________________________________\n",
            "res2a_branch2b (Conv2D)         (None, None, None, 6 36928       activation_1[0][0]               \n",
            "__________________________________________________________________________________________________\n",
            "bn2a_branch2b (BatchNormalizati (None, None, None, 6 256         res2a_branch2b[0][0]             \n",
            "__________________________________________________________________________________________________\n",
            "activation_2 (Activation)       (None, None, None, 6 0           bn2a_branch2b[0][0]              \n",
            "__________________________________________________________________________________________________\n",
            "res2a_branch2c (Conv2D)         (None, None, None, 2 16640       activation_2[0][0]               \n",
            "__________________________________________________________________________________________________\n",
            "res2a_branch1 (Conv2D)          (None, None, None, 2 16640       max_pooling2d[0][0]              \n",
            "__________________________________________________________________________________________________\n",
            "bn2a_branch2c (BatchNormalizati (None, None, None, 2 1024        res2a_branch2c[0][0]             \n",
            "__________________________________________________________________________________________________\n",
            "bn2a_branch1 (BatchNormalizatio (None, None, None, 2 1024        res2a_branch1[0][0]              \n",
            "__________________________________________________________________________________________________\n",
            "add (Add)                       (None, None, None, 2 0           bn2a_branch2c[0][0]              \n",
            "                                                                 bn2a_branch1[0][0]               \n",
            "__________________________________________________________________________________________________\n",
            "activation_3 (Activation)       (None, None, None, 2 0           add[0][0]                        \n",
            "__________________________________________________________________________________________________\n",
            "res2b_branch2a (Conv2D)         (None, None, None, 6 16448       activation_3[0][0]               \n",
            "__________________________________________________________________________________________________\n",
            "bn2b_branch2a (BatchNormalizati (None, None, None, 6 256         res2b_branch2a[0][0]             \n",
            "__________________________________________________________________________________________________\n",
            "activation_4 (Activation)       (None, None, None, 6 0           bn2b_branch2a[0][0]              \n",
            "__________________________________________________________________________________________________\n",
            "res2b_branch2b (Conv2D)         (None, None, None, 6 36928       activation_4[0][0]               \n",
            "__________________________________________________________________________________________________\n",
            "bn2b_branch2b (BatchNormalizati (None, None, None, 6 256         res2b_branch2b[0][0]             \n",
            "__________________________________________________________________________________________________\n",
            "activation_5 (Activation)       (None, None, None, 6 0           bn2b_branch2b[0][0]              \n",
            "__________________________________________________________________________________________________\n",
            "res2b_branch2c (Conv2D)         (None, None, None, 2 16640       activation_5[0][0]               \n",
            "__________________________________________________________________________________________________\n",
            "bn2b_branch2c (BatchNormalizati (None, None, None, 2 1024        res2b_branch2c[0][0]             \n",
            "__________________________________________________________________________________________________\n",
            "add_1 (Add)                     (None, None, None, 2 0           bn2b_branch2c[0][0]              \n",
            "                                                                 activation_3[0][0]               \n",
            "__________________________________________________________________________________________________\n",
            "activation_6 (Activation)       (None, None, None, 2 0           add_1[0][0]                      \n",
            "__________________________________________________________________________________________________\n",
            "res2c_branch2a (Conv2D)         (None, None, None, 6 16448       activation_6[0][0]               \n",
            "__________________________________________________________________________________________________\n",
            "bn2c_branch2a (BatchNormalizati (None, None, None, 6 256         res2c_branch2a[0][0]             \n",
            "__________________________________________________________________________________________________\n",
            "activation_7 (Activation)       (None, None, None, 6 0           bn2c_branch2a[0][0]              \n",
            "__________________________________________________________________________________________________\n",
            "res2c_branch2b (Conv2D)         (None, None, None, 6 36928       activation_7[0][0]               \n",
            "__________________________________________________________________________________________________\n",
            "bn2c_branch2b (BatchNormalizati (None, None, None, 6 256         res2c_branch2b[0][0]             \n",
            "__________________________________________________________________________________________________\n",
            "activation_8 (Activation)       (None, None, None, 6 0           bn2c_branch2b[0][0]              \n",
            "__________________________________________________________________________________________________\n",
            "res2c_branch2c (Conv2D)         (None, None, None, 2 16640       activation_8[0][0]               \n",
            "__________________________________________________________________________________________________\n",
            "bn2c_branch2c (BatchNormalizati (None, None, None, 2 1024        res2c_branch2c[0][0]             \n",
            "__________________________________________________________________________________________________\n",
            "add_2 (Add)                     (None, None, None, 2 0           bn2c_branch2c[0][0]              \n",
            "                                                                 activation_6[0][0]               \n",
            "__________________________________________________________________________________________________\n",
            "activation_9 (Activation)       (None, None, None, 2 0           add_2[0][0]                      \n",
            "__________________________________________________________________________________________________\n",
            "res3a_branch2a (Conv2D)         (None, None, None, 1 32896       activation_9[0][0]               \n",
            "__________________________________________________________________________________________________\n",
            "bn3a_branch2a (BatchNormalizati (None, None, None, 1 512         res3a_branch2a[0][0]             \n",
            "__________________________________________________________________________________________________\n",
            "activation_10 (Activation)      (None, None, None, 1 0           bn3a_branch2a[0][0]              \n",
            "__________________________________________________________________________________________________\n",
            "res3a_branch2b (Conv2D)         (None, None, None, 1 147584      activation_10[0][0]              \n",
            "__________________________________________________________________________________________________\n",
            "bn3a_branch2b (BatchNormalizati (None, None, None, 1 512         res3a_branch2b[0][0]             \n",
            "__________________________________________________________________________________________________\n",
            "activation_11 (Activation)      (None, None, None, 1 0           bn3a_branch2b[0][0]              \n",
            "__________________________________________________________________________________________________\n",
            "res3a_branch2c (Conv2D)         (None, None, None, 5 66048       activation_11[0][0]              \n",
            "__________________________________________________________________________________________________\n",
            "res3a_branch1 (Conv2D)          (None, None, None, 5 131584      activation_9[0][0]               \n",
            "__________________________________________________________________________________________________\n",
            "bn3a_branch2c (BatchNormalizati (None, None, None, 5 2048        res3a_branch2c[0][0]             \n",
            "__________________________________________________________________________________________________\n",
            "bn3a_branch1 (BatchNormalizatio (None, None, None, 5 2048        res3a_branch1[0][0]              \n",
            "__________________________________________________________________________________________________\n",
            "add_3 (Add)                     (None, None, None, 5 0           bn3a_branch2c[0][0]              \n",
            "                                                                 bn3a_branch1[0][0]               \n",
            "__________________________________________________________________________________________________\n",
            "activation_12 (Activation)      (None, None, None, 5 0           add_3[0][0]                      \n",
            "__________________________________________________________________________________________________\n",
            "res3b_branch2a (Conv2D)         (None, None, None, 1 65664       activation_12[0][0]              \n",
            "__________________________________________________________________________________________________\n",
            "bn3b_branch2a (BatchNormalizati (None, None, None, 1 512         res3b_branch2a[0][0]             \n",
            "__________________________________________________________________________________________________\n",
            "activation_13 (Activation)      (None, None, None, 1 0           bn3b_branch2a[0][0]              \n",
            "__________________________________________________________________________________________________\n",
            "res3b_branch2b (Conv2D)         (None, None, None, 1 147584      activation_13[0][0]              \n",
            "__________________________________________________________________________________________________\n",
            "bn3b_branch2b (BatchNormalizati (None, None, None, 1 512         res3b_branch2b[0][0]             \n",
            "__________________________________________________________________________________________________\n",
            "activation_14 (Activation)      (None, None, None, 1 0           bn3b_branch2b[0][0]              \n",
            "__________________________________________________________________________________________________\n",
            "res3b_branch2c (Conv2D)         (None, None, None, 5 66048       activation_14[0][0]              \n",
            "__________________________________________________________________________________________________\n",
            "bn3b_branch2c (BatchNormalizati (None, None, None, 5 2048        res3b_branch2c[0][0]             \n",
            "__________________________________________________________________________________________________\n",
            "add_4 (Add)                     (None, None, None, 5 0           bn3b_branch2c[0][0]              \n",
            "                                                                 activation_12[0][0]              \n",
            "__________________________________________________________________________________________________\n",
            "activation_15 (Activation)      (None, None, None, 5 0           add_4[0][0]                      \n",
            "__________________________________________________________________________________________________\n",
            "res3c_branch2a (Conv2D)         (None, None, None, 1 65664       activation_15[0][0]              \n",
            "__________________________________________________________________________________________________\n",
            "bn3c_branch2a (BatchNormalizati (None, None, None, 1 512         res3c_branch2a[0][0]             \n",
            "__________________________________________________________________________________________________\n",
            "activation_16 (Activation)      (None, None, None, 1 0           bn3c_branch2a[0][0]              \n",
            "__________________________________________________________________________________________________\n",
            "res3c_branch2b (Conv2D)         (None, None, None, 1 147584      activation_16[0][0]              \n",
            "__________________________________________________________________________________________________\n",
            "bn3c_branch2b (BatchNormalizati (None, None, None, 1 512         res3c_branch2b[0][0]             \n",
            "__________________________________________________________________________________________________\n",
            "activation_17 (Activation)      (None, None, None, 1 0           bn3c_branch2b[0][0]              \n",
            "__________________________________________________________________________________________________\n",
            "res3c_branch2c (Conv2D)         (None, None, None, 5 66048       activation_17[0][0]              \n",
            "__________________________________________________________________________________________________\n",
            "bn3c_branch2c (BatchNormalizati (None, None, None, 5 2048        res3c_branch2c[0][0]             \n",
            "__________________________________________________________________________________________________\n",
            "add_5 (Add)                     (None, None, None, 5 0           bn3c_branch2c[0][0]              \n",
            "                                                                 activation_15[0][0]              \n",
            "__________________________________________________________________________________________________\n",
            "activation_18 (Activation)      (None, None, None, 5 0           add_5[0][0]                      \n",
            "__________________________________________________________________________________________________\n",
            "res3d_branch2a (Conv2D)         (None, None, None, 1 65664       activation_18[0][0]              \n",
            "__________________________________________________________________________________________________\n",
            "bn3d_branch2a (BatchNormalizati (None, None, None, 1 512         res3d_branch2a[0][0]             \n",
            "__________________________________________________________________________________________________\n",
            "activation_19 (Activation)      (None, None, None, 1 0           bn3d_branch2a[0][0]              \n",
            "__________________________________________________________________________________________________\n",
            "res3d_branch2b (Conv2D)         (None, None, None, 1 147584      activation_19[0][0]              \n",
            "__________________________________________________________________________________________________\n",
            "bn3d_branch2b (BatchNormalizati (None, None, None, 1 512         res3d_branch2b[0][0]             \n",
            "__________________________________________________________________________________________________\n",
            "activation_20 (Activation)      (None, None, None, 1 0           bn3d_branch2b[0][0]              \n",
            "__________________________________________________________________________________________________\n",
            "res3d_branch2c (Conv2D)         (None, None, None, 5 66048       activation_20[0][0]              \n",
            "__________________________________________________________________________________________________\n",
            "bn3d_branch2c (BatchNormalizati (None, None, None, 5 2048        res3d_branch2c[0][0]             \n",
            "__________________________________________________________________________________________________\n",
            "add_6 (Add)                     (None, None, None, 5 0           bn3d_branch2c[0][0]              \n",
            "                                                                 activation_18[0][0]              \n",
            "__________________________________________________________________________________________________\n",
            "activation_21 (Activation)      (None, None, None, 5 0           add_6[0][0]                      \n",
            "__________________________________________________________________________________________________\n",
            "res4a_branch2a (Conv2D)         (None, None, None, 2 131328      activation_21[0][0]              \n",
            "__________________________________________________________________________________________________\n",
            "bn4a_branch2a (BatchNormalizati (None, None, None, 2 1024        res4a_branch2a[0][0]             \n",
            "__________________________________________________________________________________________________\n",
            "activation_22 (Activation)      (None, None, None, 2 0           bn4a_branch2a[0][0]              \n",
            "__________________________________________________________________________________________________\n",
            "res4a_branch2b (Conv2D)         (None, None, None, 2 590080      activation_22[0][0]              \n",
            "__________________________________________________________________________________________________\n",
            "bn4a_branch2b (BatchNormalizati (None, None, None, 2 1024        res4a_branch2b[0][0]             \n",
            "__________________________________________________________________________________________________\n",
            "activation_23 (Activation)      (None, None, None, 2 0           bn4a_branch2b[0][0]              \n",
            "__________________________________________________________________________________________________\n",
            "res4a_branch2c (Conv2D)         (None, None, None, 1 263168      activation_23[0][0]              \n",
            "__________________________________________________________________________________________________\n",
            "res4a_branch1 (Conv2D)          (None, None, None, 1 525312      activation_21[0][0]              \n",
            "__________________________________________________________________________________________________\n",
            "bn4a_branch2c (BatchNormalizati (None, None, None, 1 4096        res4a_branch2c[0][0]             \n",
            "__________________________________________________________________________________________________\n",
            "bn4a_branch1 (BatchNormalizatio (None, None, None, 1 4096        res4a_branch1[0][0]              \n",
            "__________________________________________________________________________________________________\n",
            "add_7 (Add)                     (None, None, None, 1 0           bn4a_branch2c[0][0]              \n",
            "                                                                 bn4a_branch1[0][0]               \n",
            "__________________________________________________________________________________________________\n",
            "activation_24 (Activation)      (None, None, None, 1 0           add_7[0][0]                      \n",
            "__________________________________________________________________________________________________\n",
            "res4b_branch2a (Conv2D)         (None, None, None, 2 262400      activation_24[0][0]              \n",
            "__________________________________________________________________________________________________\n",
            "bn4b_branch2a (BatchNormalizati (None, None, None, 2 1024        res4b_branch2a[0][0]             \n",
            "__________________________________________________________________________________________________\n",
            "activation_25 (Activation)      (None, None, None, 2 0           bn4b_branch2a[0][0]              \n",
            "__________________________________________________________________________________________________\n",
            "res4b_branch2b (Conv2D)         (None, None, None, 2 590080      activation_25[0][0]              \n",
            "__________________________________________________________________________________________________\n",
            "bn4b_branch2b (BatchNormalizati (None, None, None, 2 1024        res4b_branch2b[0][0]             \n",
            "__________________________________________________________________________________________________\n",
            "activation_26 (Activation)      (None, None, None, 2 0           bn4b_branch2b[0][0]              \n",
            "__________________________________________________________________________________________________\n",
            "res4b_branch2c (Conv2D)         (None, None, None, 1 263168      activation_26[0][0]              \n",
            "__________________________________________________________________________________________________\n",
            "bn4b_branch2c (BatchNormalizati (None, None, None, 1 4096        res4b_branch2c[0][0]             \n",
            "__________________________________________________________________________________________________\n",
            "add_8 (Add)                     (None, None, None, 1 0           bn4b_branch2c[0][0]              \n",
            "                                                                 activation_24[0][0]              \n",
            "__________________________________________________________________________________________________\n",
            "activation_27 (Activation)      (None, None, None, 1 0           add_8[0][0]                      \n",
            "__________________________________________________________________________________________________\n",
            "res4c_branch2a (Conv2D)         (None, None, None, 2 262400      activation_27[0][0]              \n",
            "__________________________________________________________________________________________________\n",
            "bn4c_branch2a (BatchNormalizati (None, None, None, 2 1024        res4c_branch2a[0][0]             \n",
            "__________________________________________________________________________________________________\n",
            "activation_28 (Activation)      (None, None, None, 2 0           bn4c_branch2a[0][0]              \n",
            "__________________________________________________________________________________________________\n",
            "res4c_branch2b (Conv2D)         (None, None, None, 2 590080      activation_28[0][0]              \n",
            "__________________________________________________________________________________________________\n",
            "bn4c_branch2b (BatchNormalizati (None, None, None, 2 1024        res4c_branch2b[0][0]             \n",
            "__________________________________________________________________________________________________\n",
            "activation_29 (Activation)      (None, None, None, 2 0           bn4c_branch2b[0][0]              \n",
            "__________________________________________________________________________________________________\n",
            "res4c_branch2c (Conv2D)         (None, None, None, 1 263168      activation_29[0][0]              \n",
            "__________________________________________________________________________________________________\n",
            "bn4c_branch2c (BatchNormalizati (None, None, None, 1 4096        res4c_branch2c[0][0]             \n",
            "__________________________________________________________________________________________________\n",
            "add_9 (Add)                     (None, None, None, 1 0           bn4c_branch2c[0][0]              \n",
            "                                                                 activation_27[0][0]              \n",
            "__________________________________________________________________________________________________\n",
            "activation_30 (Activation)      (None, None, None, 1 0           add_9[0][0]                      \n",
            "__________________________________________________________________________________________________\n",
            "res4d_branch2a (Conv2D)         (None, None, None, 2 262400      activation_30[0][0]              \n",
            "__________________________________________________________________________________________________\n",
            "bn4d_branch2a (BatchNormalizati (None, None, None, 2 1024        res4d_branch2a[0][0]             \n",
            "__________________________________________________________________________________________________\n",
            "activation_31 (Activation)      (None, None, None, 2 0           bn4d_branch2a[0][0]              \n",
            "__________________________________________________________________________________________________\n",
            "res4d_branch2b (Conv2D)         (None, None, None, 2 590080      activation_31[0][0]              \n",
            "__________________________________________________________________________________________________\n",
            "bn4d_branch2b (BatchNormalizati (None, None, None, 2 1024        res4d_branch2b[0][0]             \n",
            "__________________________________________________________________________________________________\n",
            "activation_32 (Activation)      (None, None, None, 2 0           bn4d_branch2b[0][0]              \n",
            "__________________________________________________________________________________________________\n",
            "res4d_branch2c (Conv2D)         (None, None, None, 1 263168      activation_32[0][0]              \n",
            "__________________________________________________________________________________________________\n",
            "bn4d_branch2c (BatchNormalizati (None, None, None, 1 4096        res4d_branch2c[0][0]             \n",
            "__________________________________________________________________________________________________\n",
            "add_10 (Add)                    (None, None, None, 1 0           bn4d_branch2c[0][0]              \n",
            "                                                                 activation_30[0][0]              \n",
            "__________________________________________________________________________________________________\n",
            "activation_33 (Activation)      (None, None, None, 1 0           add_10[0][0]                     \n",
            "__________________________________________________________________________________________________\n",
            "res4e_branch2a (Conv2D)         (None, None, None, 2 262400      activation_33[0][0]              \n",
            "__________________________________________________________________________________________________\n",
            "bn4e_branch2a (BatchNormalizati (None, None, None, 2 1024        res4e_branch2a[0][0]             \n",
            "__________________________________________________________________________________________________\n",
            "activation_34 (Activation)      (None, None, None, 2 0           bn4e_branch2a[0][0]              \n",
            "__________________________________________________________________________________________________\n",
            "res4e_branch2b (Conv2D)         (None, None, None, 2 590080      activation_34[0][0]              \n",
            "__________________________________________________________________________________________________\n",
            "bn4e_branch2b (BatchNormalizati (None, None, None, 2 1024        res4e_branch2b[0][0]             \n",
            "__________________________________________________________________________________________________\n",
            "activation_35 (Activation)      (None, None, None, 2 0           bn4e_branch2b[0][0]              \n",
            "__________________________________________________________________________________________________\n",
            "res4e_branch2c (Conv2D)         (None, None, None, 1 263168      activation_35[0][0]              \n",
            "__________________________________________________________________________________________________\n",
            "bn4e_branch2c (BatchNormalizati (None, None, None, 1 4096        res4e_branch2c[0][0]             \n",
            "__________________________________________________________________________________________________\n",
            "add_11 (Add)                    (None, None, None, 1 0           bn4e_branch2c[0][0]              \n",
            "                                                                 activation_33[0][0]              \n",
            "__________________________________________________________________________________________________\n",
            "activation_36 (Activation)      (None, None, None, 1 0           add_11[0][0]                     \n",
            "__________________________________________________________________________________________________\n",
            "res4f_branch2a (Conv2D)         (None, None, None, 2 262400      activation_36[0][0]              \n",
            "__________________________________________________________________________________________________\n",
            "bn4f_branch2a (BatchNormalizati (None, None, None, 2 1024        res4f_branch2a[0][0]             \n",
            "__________________________________________________________________________________________________\n",
            "activation_37 (Activation)      (None, None, None, 2 0           bn4f_branch2a[0][0]              \n",
            "__________________________________________________________________________________________________\n",
            "res4f_branch2b (Conv2D)         (None, None, None, 2 590080      activation_37[0][0]              \n",
            "__________________________________________________________________________________________________\n",
            "bn4f_branch2b (BatchNormalizati (None, None, None, 2 1024        res4f_branch2b[0][0]             \n",
            "__________________________________________________________________________________________________\n",
            "activation_38 (Activation)      (None, None, None, 2 0           bn4f_branch2b[0][0]              \n",
            "__________________________________________________________________________________________________\n",
            "res4f_branch2c (Conv2D)         (None, None, None, 1 263168      activation_38[0][0]              \n",
            "__________________________________________________________________________________________________\n",
            "bn4f_branch2c (BatchNormalizati (None, None, None, 1 4096        res4f_branch2c[0][0]             \n",
            "__________________________________________________________________________________________________\n",
            "add_12 (Add)                    (None, None, None, 1 0           bn4f_branch2c[0][0]              \n",
            "                                                                 activation_36[0][0]              \n",
            "__________________________________________________________________________________________________\n",
            "activation_39 (Activation)      (None, None, None, 1 0           add_12[0][0]                     \n",
            "__________________________________________________________________________________________________\n",
            "res5a_branch2a (Conv2D)         (None, None, None, 5 524800      activation_39[0][0]              \n",
            "__________________________________________________________________________________________________\n",
            "bn5a_branch2a (BatchNormalizati (None, None, None, 5 2048        res5a_branch2a[0][0]             \n",
            "__________________________________________________________________________________________________\n",
            "activation_40 (Activation)      (None, None, None, 5 0           bn5a_branch2a[0][0]              \n",
            "__________________________________________________________________________________________________\n",
            "res5a_branch2b (Conv2D)         (None, None, None, 5 2359808     activation_40[0][0]              \n",
            "__________________________________________________________________________________________________\n",
            "bn5a_branch2b (BatchNormalizati (None, None, None, 5 2048        res5a_branch2b[0][0]             \n",
            "__________________________________________________________________________________________________\n",
            "activation_41 (Activation)      (None, None, None, 5 0           bn5a_branch2b[0][0]              \n",
            "__________________________________________________________________________________________________\n",
            "res5a_branch2c (Conv2D)         (None, None, None, 2 1050624     activation_41[0][0]              \n",
            "__________________________________________________________________________________________________\n",
            "res5a_branch1 (Conv2D)          (None, None, None, 2 2099200     activation_39[0][0]              \n",
            "__________________________________________________________________________________________________\n",
            "bn5a_branch2c (BatchNormalizati (None, None, None, 2 8192        res5a_branch2c[0][0]             \n",
            "__________________________________________________________________________________________________\n",
            "bn5a_branch1 (BatchNormalizatio (None, None, None, 2 8192        res5a_branch1[0][0]              \n",
            "__________________________________________________________________________________________________\n",
            "add_13 (Add)                    (None, None, None, 2 0           bn5a_branch2c[0][0]              \n",
            "                                                                 bn5a_branch1[0][0]               \n",
            "__________________________________________________________________________________________________\n",
            "activation_42 (Activation)      (None, None, None, 2 0           add_13[0][0]                     \n",
            "__________________________________________________________________________________________________\n",
            "res5b_branch2a (Conv2D)         (None, None, None, 5 1049088     activation_42[0][0]              \n",
            "__________________________________________________________________________________________________\n",
            "bn5b_branch2a (BatchNormalizati (None, None, None, 5 2048        res5b_branch2a[0][0]             \n",
            "__________________________________________________________________________________________________\n",
            "activation_43 (Activation)      (None, None, None, 5 0           bn5b_branch2a[0][0]              \n",
            "__________________________________________________________________________________________________\n",
            "res5b_branch2b (Conv2D)         (None, None, None, 5 2359808     activation_43[0][0]              \n",
            "__________________________________________________________________________________________________\n",
            "bn5b_branch2b (BatchNormalizati (None, None, None, 5 2048        res5b_branch2b[0][0]             \n",
            "__________________________________________________________________________________________________\n",
            "activation_44 (Activation)      (None, None, None, 5 0           bn5b_branch2b[0][0]              \n",
            "__________________________________________________________________________________________________\n",
            "res5b_branch2c (Conv2D)         (None, None, None, 2 1050624     activation_44[0][0]              \n",
            "__________________________________________________________________________________________________\n",
            "bn5b_branch2c (BatchNormalizati (None, None, None, 2 8192        res5b_branch2c[0][0]             \n",
            "__________________________________________________________________________________________________\n",
            "add_14 (Add)                    (None, None, None, 2 0           bn5b_branch2c[0][0]              \n",
            "                                                                 activation_42[0][0]              \n",
            "__________________________________________________________________________________________________\n",
            "activation_45 (Activation)      (None, None, None, 2 0           add_14[0][0]                     \n",
            "__________________________________________________________________________________________________\n",
            "res5c_branch2a (Conv2D)         (None, None, None, 5 1049088     activation_45[0][0]              \n",
            "__________________________________________________________________________________________________\n",
            "bn5c_branch2a (BatchNormalizati (None, None, None, 5 2048        res5c_branch2a[0][0]             \n",
            "__________________________________________________________________________________________________\n",
            "activation_46 (Activation)      (None, None, None, 5 0           bn5c_branch2a[0][0]              \n",
            "__________________________________________________________________________________________________\n",
            "res5c_branch2b (Conv2D)         (None, None, None, 5 2359808     activation_46[0][0]              \n",
            "__________________________________________________________________________________________________\n",
            "bn5c_branch2b (BatchNormalizati (None, None, None, 5 2048        res5c_branch2b[0][0]             \n",
            "__________________________________________________________________________________________________\n",
            "activation_47 (Activation)      (None, None, None, 5 0           bn5c_branch2b[0][0]              \n",
            "__________________________________________________________________________________________________\n",
            "res5c_branch2c (Conv2D)         (None, None, None, 2 1050624     activation_47[0][0]              \n",
            "__________________________________________________________________________________________________\n",
            "bn5c_branch2c (BatchNormalizati (None, None, None, 2 8192        res5c_branch2c[0][0]             \n",
            "__________________________________________________________________________________________________\n",
            "add_15 (Add)                    (None, None, None, 2 0           bn5c_branch2c[0][0]              \n",
            "                                                                 activation_45[0][0]              \n",
            "__________________________________________________________________________________________________\n",
            "activation_48 (Activation)      (None, None, None, 2 0           add_15[0][0]                     \n",
            "__________________________________________________________________________________________________\n",
            "avg_pool (AveragePooling2D)     (None, None, None, 2 0           activation_48[0][0]              \n",
            "==================================================================================================\n",
            "Total params: 23,587,712\n",
            "Trainable params: 0\n",
            "Non-trainable params: 23,587,712\n",
            "__________________________________________________________________________________________________\n"
          ],
          "name": "stdout"
        }
      ]
    },
    {
      "metadata": {
        "id": "7larDwuBUGwE",
        "colab_type": "code",
        "colab": {}
      },
      "cell_type": "code",
      "source": [
        ""
      ],
      "execution_count": 0,
      "outputs": []
    }
  ]
}