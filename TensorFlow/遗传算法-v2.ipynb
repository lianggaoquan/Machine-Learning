{
 "cells": [
  {
   "cell_type": "markdown",
   "metadata": {},
   "source": [
    "## 自己用 list 实现的遗传算法"
   ]
  },
  {
   "cell_type": "code",
   "execution_count": 1,
   "metadata": {},
   "outputs": [],
   "source": [
    "import random\n",
    "import math"
   ]
  },
  {
   "cell_type": "code",
   "execution_count": 2,
   "metadata": {},
   "outputs": [],
   "source": [
    "class GA():\n",
    "    def __init__(self,x1,x2,div,count,fitness):\n",
    "        '''\n",
    "        div: 将区间等分的数目\n",
    "        \n",
    "        '''\n",
    "        self.x1 = x1\n",
    "        self.x2 = x2\n",
    "        self.div = div\n",
    "        self.length = self.get_length()\n",
    "        self.count = count\n",
    "        self.fitness = fitness\n",
    "        self.population = self.create_population()\n",
    "    \n",
    "    def get_length(self):\n",
    "        i = 0\n",
    "        while (2**i) < self.div:\n",
    "            i += 1\n",
    "        return i\n",
    "    \n",
    "    def decimal(self,chrom):\n",
    "        res = 0\n",
    "        for i in range(len(chrom)-1,-1,-1):\n",
    "            res += chrom[i]*(2**i)\n",
    "        return res\n",
    "    \n",
    "    def decode(self,chrom):\n",
    "        # length of chromosome is 17\n",
    "        # x1 = 0, x2 = 9\n",
    "        return self.x1 + self.decimal(chrom)*(self.x2 - self.x1) / ((2**self.length)-1)\n",
    "    \n",
    "    def create_population(self):\n",
    "        population = []\n",
    "        for _ in range(self.count):\n",
    "            chrom = []\n",
    "            for i in range(self.length):\n",
    "                chrom.append(random.randint(0,1))\n",
    "            population.append(chrom)\n",
    "        return population\n",
    "    \n",
    "    def selection(self,retain_rate):\n",
    "        grade = [(self.fitness(chrom),chrom) for chrom in self.population]\n",
    "        grade = [x[1] for x in sorted(grade,reverse=True)]\n",
    "    \n",
    "        retain_length = int(len(grade)*retain_rate)\n",
    "        # 选择适应性强的个体\n",
    "        parents = grade[:retain_length]\n",
    "        return parents\n",
    "    \n",
    "    def crossover(self,parents):\n",
    "        children = []\n",
    "        # the number of children\n",
    "        target_count = len(self.population) - len(parents)\n",
    "        for _ in range(target_count):\n",
    "            male = parents[random.randint(0,len(parents)-1)]\n",
    "            female = parents[random.randint(0,len(parents)-1)]\n",
    "            child = male\n",
    "            if male != female:\n",
    "                # crossover\n",
    "                pos = random.randint(0,self.length)\n",
    "                child[:pos] = male[:pos]\n",
    "                child[pos:] = female[pos:]\n",
    "                children.append(child)\n",
    "        self.population = self.population + children\n",
    "    \n",
    "    def mutation(self,mutate_rate):\n",
    "        for chrom in self.population:\n",
    "            if random.random() < mutate_rate:\n",
    "                pos = random.randint(0,self.length-1)\n",
    "                chrom[pos] = int(not chrom[pos])\n",
    "    \n",
    "    def result(self):\n",
    "        grade = [(self.fitness(chrom),chrom) for chrom in self.population]\n",
    "        grade = [x[1] for x in sorted(grade,reverse=True)]\n",
    "        return self.decode(grade[0])\n",
    "    \n",
    "    def evolve(self,epochs,retain_rate,mutate_rate):\n",
    "        for _ in range(epochs):\n",
    "            parents = self.selection(retain_rate)\n",
    "            self.crossover(parents)\n",
    "            self.mutation(mutate_rate)\n",
    "        return self.result()"
   ]
  },
  {
   "cell_type": "code",
   "execution_count": 3,
   "metadata": {},
   "outputs": [],
   "source": [
    "def f(chrom):\n",
    "    x = ga.decode(chrom)\n",
    "    return -(x-13)**2"
   ]
  },
  {
   "cell_type": "code",
   "execution_count": 4,
   "metadata": {},
   "outputs": [],
   "source": [
    "ga = GA(x1=0,x2=30,div=90000,count=100,fitness=f)"
   ]
  },
  {
   "cell_type": "code",
   "execution_count": 5,
   "metadata": {},
   "outputs": [
    {
     "name": "stdout",
     "output_type": "stream",
     "text": [
      "12.916129426036271\n"
     ]
    }
   ],
   "source": [
    "print(ga.evolve(epochs=100,retain_rate=0.2,mutate_rate=0.01))"
   ]
  },
  {
   "cell_type": "code",
   "execution_count": null,
   "metadata": {},
   "outputs": [],
   "source": []
  }
 ],
 "metadata": {
  "anaconda-cloud": {},
  "kernelspec": {
   "display_name": "Python [Root]",
   "language": "python",
   "name": "Python [Root]"
  },
  "language_info": {
   "codemirror_mode": {
    "name": "ipython",
    "version": 3
   },
   "file_extension": ".py",
   "mimetype": "text/x-python",
   "name": "python",
   "nbconvert_exporter": "python",
   "pygments_lexer": "ipython3",
   "version": "3.5.4"
  }
 },
 "nbformat": 4,
 "nbformat_minor": 1
}
