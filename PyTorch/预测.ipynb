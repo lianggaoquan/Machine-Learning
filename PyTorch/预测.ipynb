{
 "cells": [
  {
   "cell_type": "code",
   "execution_count": 1,
   "metadata": {},
   "outputs": [],
   "source": [
    "import numpy as np\n",
    "from tensorflow.python.keras import Sequential\n",
    "from tensorflow.python.keras.layers import *\n",
    "from tensorflow.python.keras.optimizers import Adam\n",
    "import matplotlib.pyplot as plt\n",
    "% matplotlib inline"
   ]
  },
  {
   "cell_type": "code",
   "execution_count": 2,
   "metadata": {},
   "outputs": [],
   "source": [
    "timestamp = [-2070, -1600, -1046, -771, -238.5, -206, 16.5, 220, 272.5, 316, 420, 585, \n",
    "            618, 907, 969.5, 1127, 1279, 1368, 1644, 1911, 1949]"
   ]
  },
  {
   "cell_type": "code",
   "execution_count": 3,
   "metadata": {},
   "outputs": [
    {
     "data": {
      "text/plain": [
       "21"
      ]
     },
     "execution_count": 3,
     "metadata": {},
     "output_type": "execute_result"
    }
   ],
   "source": [
    "len(timestamp)"
   ]
  },
  {
   "cell_type": "code",
   "execution_count": 4,
   "metadata": {},
   "outputs": [],
   "source": [
    "seq_len = 2"
   ]
  },
  {
   "cell_type": "code",
   "execution_count": 5,
   "metadata": {},
   "outputs": [
    {
     "data": {
      "text/plain": [
       "[[-2070, -1600],\n",
       " [-1600, -1046],\n",
       " [-1046, -771],\n",
       " [-771, -238.5],\n",
       " [-238.5, -206],\n",
       " [-206, 16.5],\n",
       " [16.5, 220],\n",
       " [220, 272.5],\n",
       " [272.5, 316],\n",
       " [316, 420],\n",
       " [420, 585],\n",
       " [585, 618],\n",
       " [618, 907],\n",
       " [907, 969.5],\n",
       " [969.5, 1127],\n",
       " [1127, 1279],\n",
       " [1279, 1368],\n",
       " [1368, 1644],\n",
       " [1644, 1911],\n",
       " [1911, 1949]]"
      ]
     },
     "execution_count": 5,
     "metadata": {},
     "output_type": "execute_result"
    }
   ],
   "source": [
    "data = []\n",
    "for i in range(len(timestamp) - seq_len + 1):\n",
    "    data.append(timestamp[i:i+seq_len])\n",
    "\n",
    "data"
   ]
  },
  {
   "cell_type": "code",
   "execution_count": 6,
   "metadata": {},
   "outputs": [
    {
     "name": "stdout",
     "output_type": "stream",
     "text": [
      "(20, 2)\n"
     ]
    }
   ],
   "source": [
    "train_size = int(0.9*len(data))\n",
    "data = np.array(data)\n",
    "# np.random.shuffle(data)\n",
    "print(data.shape)"
   ]
  },
  {
   "cell_type": "code",
   "execution_count": 7,
   "metadata": {},
   "outputs": [],
   "source": [
    "mean = np.mean(data)\n",
    "std = np.std(data)"
   ]
  },
  {
   "cell_type": "code",
   "execution_count": 8,
   "metadata": {},
   "outputs": [
    {
     "name": "stdout",
     "output_type": "stream",
     "text": [
      "386.575\n",
      "985.3624938950132\n"
     ]
    }
   ],
   "source": [
    "print(mean)\n",
    "print(std)"
   ]
  },
  {
   "cell_type": "code",
   "execution_count": 9,
   "metadata": {},
   "outputs": [],
   "source": [
    "data = (data - np.mean(data)) / np.std(data)"
   ]
  },
  {
   "cell_type": "code",
   "execution_count": 10,
   "metadata": {},
   "outputs": [],
   "source": [
    "X_train = data[:train_size,:-1]\n",
    "y_train = data[:train_size,-1]\n",
    "\n",
    "X_test = data[train_size:,:-1]\n",
    "y_test = data[train_size:,-1]"
   ]
  },
  {
   "cell_type": "code",
   "execution_count": 11,
   "metadata": {},
   "outputs": [
    {
     "name": "stdout",
     "output_type": "stream",
     "text": [
      "(18, 1)\n"
     ]
    }
   ],
   "source": [
    "y_train = y_train.reshape(y_train.shape[0],1)\n",
    "y_test = y_test.reshape(y_test.shape[0],1)\n",
    "print(X_train.shape)"
   ]
  },
  {
   "cell_type": "code",
   "execution_count": 12,
   "metadata": {},
   "outputs": [
    {
     "data": {
      "text/plain": [
       "[<matplotlib.lines.Line2D at 0x17d515da080>]"
      ]
     },
     "execution_count": 12,
     "metadata": {},
     "output_type": "execute_result"
    },
    {
     "data": {
      "image/png": "[encoded data removed]",
      "text/plain": [
       "<Figure size 600x400 with 1 Axes>"
      ]
     },
     "metadata": {},
     "output_type": "display_data"
    }
   ],
   "source": [
    "plt.plot(X_train.reshape(X_train.shape[0],1),y_train.reshape(y_train.shape[0],1))"
   ]
  },
  {
   "cell_type": "code",
   "execution_count": 13,
   "metadata": {},
   "outputs": [],
   "source": [
    "model = Sequential()\n",
    "model.add(Dense(128,input_shape=(1,)))\n",
    "model.add(Dense(64,activation='relu'))\n",
    "model.add(Dropout(0.2))\n",
    "model.add(Dense(32,activation='relu'))\n",
    "model.add(Dense(1,activation='linear'))\n",
    "\n",
    "adam = Adam(lr=1e-4)\n",
    "model.compile(loss='mse',optimizer=adam)"
   ]
  },
  {
   "cell_type": "code",
   "execution_count": 14,
   "metadata": {},
   "outputs": [
    {
     "name": "stdout",
     "output_type": "stream",
     "text": [
      "_________________________________________________________________\n",
      "Layer (type)                 Output Shape              Param #   \n",
      "=================================================================\n",
      "dense_1 (Dense)              (None, 128)               256       \n",
      "_________________________________________________________________\n",
      "dense_2 (Dense)              (None, 64)                8256      \n",
      "_________________________________________________________________\n",
      "dropout_1 (Dropout)          (None, 64)                0         \n",
      "_________________________________________________________________\n",
      "dense_3 (Dense)              (None, 32)                2080      \n",
      "_________________________________________________________________\n",
      "dense_4 (Dense)              (None, 1)                 33        \n",
      "=================================================================\n",
      "Total params: 10,625\n",
      "Trainable params: 10,625\n",
      "Non-trainable params: 0\n",
      "_________________________________________________________________\n"
     ]
    }
   ],
   "source": [
    "model.summary()"
   ]
  },
  {
   "cell_type": "code",
   "execution_count": 15,
   "metadata": {},
   "outputs": [
    {
     "data": {
      "text/plain": [
       "(18, 1)"
      ]
     },
     "execution_count": 15,
     "metadata": {},
     "output_type": "execute_result"
    }
   ],
   "source": [
    "y_train.shape"
   ]
  },
  {
   "cell_type": "code",
   "execution_count": 16,
   "metadata": {},
   "outputs": [
    {
     "name": "stdout",
     "output_type": "stream",
     "text": [
      "\r",
      "2/2 [==============================] - 0s 66ms/step\n"
     ]
    },
    {
     "data": {
      "text/plain": [
       "3.3053205013275146"
      ]
     },
     "execution_count": 16,
     "metadata": {},
     "output_type": "execute_result"
    }
   ],
   "source": [
    "model.evaluate(X_test,y_test)"
   ]
  },
  {
   "cell_type": "code",
   "execution_count": 17,
   "metadata": {},
   "outputs": [],
   "source": [
    "hist = model.fit(X_train,y_train,epochs=2000,batch_size=4,verbose=0)"
   ]
  },
  {
   "cell_type": "code",
   "execution_count": 18,
   "metadata": {},
   "outputs": [
    {
     "name": "stdout",
     "output_type": "stream",
     "text": [
      "\r",
      "2/2 [==============================] - 0s 3ms/step\n"
     ]
    },
    {
     "data": {
      "text/plain": [
       "0.015196827240288258"
      ]
     },
     "execution_count": 18,
     "metadata": {},
     "output_type": "execute_result"
    }
   ],
   "source": [
    "model.evaluate(X_test,y_test)"
   ]
  },
  {
   "cell_type": "code",
   "execution_count": 19,
   "metadata": {},
   "outputs": [
    {
     "data": {
      "text/plain": [
       "[<matplotlib.lines.Line2D at 0x17d52b24400>]"
      ]
     },
     "execution_count": 19,
     "metadata": {},
     "output_type": "execute_result"
    },
    {
     "data": {
      "image/png": "[encoded data removed]",
      "text/plain": [
       "<Figure size 600x400 with 1 Axes>"
      ]
     },
     "metadata": {},
     "output_type": "display_data"
    }
   ],
   "source": [
    "loss = hist.history['loss']\n",
    "plt.plot(loss,'r-')"
   ]
  },
  {
   "cell_type": "code",
   "execution_count": 20,
   "metadata": {},
   "outputs": [],
   "source": [
    "# model.save('D:/数据/country_fate.h5')"
   ]
  },
  {
   "cell_type": "code",
   "execution_count": 21,
   "metadata": {},
   "outputs": [
    {
     "data": {
      "text/plain": [
       "[<matplotlib.lines.Line2D at 0x17d52b55e48>]"
      ]
     },
     "execution_count": 21,
     "metadata": {},
     "output_type": "execute_result"
    },
    {
     "data": {
      "image/png": "[encoded data removed]",
      "text/plain": [
       "<Figure size 600x400 with 1 Axes>"
      ]
     },
     "metadata": {},
     "output_type": "display_data"
    }
   ],
   "source": [
    "y_ = model.predict(X_train)\n",
    "plt.plot(X_train,y_train)\n",
    "plt.plot(X_train,y_,'r-')"
   ]
  },
  {
   "cell_type": "code",
   "execution_count": 22,
   "metadata": {},
   "outputs": [
    {
     "name": "stdout",
     "output_type": "stream",
     "text": [
      "[[2052.3835]]\n"
     ]
    }
   ],
   "source": [
    "x = np.array([(1949 - mean) / std])\n",
    "y = model.predict(x)\n",
    "print(y * std + mean)"
   ]
  },
  {
   "cell_type": "code",
   "execution_count": null,
   "metadata": {},
   "outputs": [],
   "source": []
  },
  {
   "cell_type": "code",
   "execution_count": 23,
   "metadata": {},
   "outputs": [],
   "source": [
    "import torch\n",
    "import torch.nn.functional as F"
   ]
  },
  {
   "cell_type": "code",
   "execution_count": 24,
   "metadata": {},
   "outputs": [],
   "source": [
    "class CountryNet(torch.nn.Module):\n",
    "    def __init__(self, D_in, D_out):\n",
    "        super(CountryNet,self).__init__()\n",
    "        self.linear1 = torch.nn.Linear(D_in,1024)\n",
    "        self.linear2 = torch.nn.Linear(1024,512)\n",
    "        self.linear3= torch.nn.Linear(512,256)\n",
    "        self.out = torch.nn.Linear(256,D_out)\n",
    "    \n",
    "    def forward(self,x):\n",
    "        h1 = self.linear1(x)\n",
    "        h2 = F.relu(self.linear2(h1))\n",
    "        h3 = F.relu(self.linear3(h2))\n",
    "        y_pred = self.out(h3)\n",
    "        return y_pred"
   ]
  },
  {
   "cell_type": "code",
   "execution_count": 25,
   "metadata": {},
   "outputs": [
    {
     "name": "stdout",
     "output_type": "stream",
     "text": [
      "0 12.976211547851562\n",
      "1000 0.1704263836145401\n",
      "2000 0.15635338425636292\n",
      "3000 0.14923568069934845\n",
      "4000 0.14447246491909027\n",
      "5000 0.14050418138504028\n",
      "6000 0.13710464537143707\n",
      "7000 0.1343967467546463\n",
      "8000 0.13205182552337646\n",
      "9000 0.1302642673254013\n",
      "10000 0.128895565867424\n",
      "11000 0.12767605483531952\n",
      "12000 0.1267135739326477\n",
      "13000 0.12585404515266418\n",
      "14000 0.12509728968143463\n",
      "15000 0.12439597398042679\n",
      "16000 0.12376238405704498\n",
      "17000 0.12316073477268219\n",
      "18000 0.12260293960571289\n",
      "19000 0.12207385152578354\n",
      "20000 0.12157071381807327\n",
      "21000 0.1210843101143837\n",
      "22000 0.12061546742916107\n",
      "23000 0.12015805393457413\n",
      "24000 0.11960137635469437\n",
      "25000 0.11904575675725937\n",
      "26000 0.11860888451337814\n",
      "27000 0.11817952990531921\n",
      "28000 0.11775054782629013\n",
      "29000 0.11732649803161621\n"
     ]
    }
   ],
   "source": [
    "D_in, D_out = 1, 1\n",
    "country_net = CountryNet(D_in,D_out)\n",
    "\n",
    "criterion = torch.nn.MSELoss(reduction='sum')\n",
    "optimizer = torch.optim.SGD(country_net.parameters(),lr=1e-4)\n",
    "\n",
    "Xs = torch.autograd.Variable(torch.from_numpy(X_train)).float()\n",
    "ys = torch.autograd.Variable(torch.from_numpy(y_train)).float()\n",
    "\n",
    "Loss = []\n",
    "\n",
    "for t in range(30000):\n",
    "    y_pred = country_net(Xs)\n",
    "    loss = criterion(y_pred,ys)\n",
    "    \n",
    "    Loss.append(loss.item())\n",
    "    \n",
    "    if t % 1000 == 0:\n",
    "        print(t, loss.item())\n",
    "        \n",
    "    optimizer.zero_grad()\n",
    "    loss.backward()\n",
    "    optimizer.step()"
   ]
  },
  {
   "cell_type": "code",
   "execution_count": 26,
   "metadata": {},
   "outputs": [
    {
     "data": {
      "text/plain": [
       "[<matplotlib.lines.Line2D at 0x17d54d711d0>]"
      ]
     },
     "execution_count": 26,
     "metadata": {},
     "output_type": "execute_result"
    },
    {
     "data": {
      "image/png": "[encoded data removed]",
      "text/plain": [
       "<Figure size 600x400 with 1 Axes>"
      ]
     },
     "metadata": {},
     "output_type": "display_data"
    }
   ],
   "source": [
    "plt.plot(Loss)"
   ]
  },
  {
   "cell_type": "code",
   "execution_count": 31,
   "metadata": {},
   "outputs": [
    {
     "name": "stdout",
     "output_type": "stream",
     "text": [
      "tensor([2144.2532], grad_fn=<AddBackward>)\n"
     ]
    }
   ],
   "source": [
    "x = torch.Tensor([(1949 - mean) / std])\n",
    "y = country_net(x)\n",
    "print(y * std + mean)"
   ]
  },
  {
   "cell_type": "code",
   "execution_count": 28,
   "metadata": {},
   "outputs": [
    {
     "data": {
      "text/plain": [
       "[<matplotlib.lines.Line2D at 0x17d54d8cf98>]"
      ]
     },
     "execution_count": 28,
     "metadata": {},
     "output_type": "execute_result"
    },
    {
     "data": {
      "image/png": "[encoded data removed]",
      "text/plain": [
       "<Figure size 600x400 with 1 Axes>"
      ]
     },
     "metadata": {},
     "output_type": "display_data"
    }
   ],
   "source": [
    "y_pred = country_net(Xs)\n",
    "# print(y_pred.detach().numpy())\n",
    "plt.plot(Xs.detach().numpy(),ys.detach().numpy(),'b-')\n",
    "plt.plot(Xs.detach().numpy(),y_pred.detach().numpy(),'r-')"
   ]
  },
  {
   "cell_type": "markdown",
   "metadata": {},
   "source": [
    "## save and load the PyTorch model"
   ]
  },
  {
   "cell_type": "code",
   "execution_count": 33,
   "metadata": {},
   "outputs": [
    {
     "name": "stderr",
     "output_type": "stream",
     "text": [
      "D:\\Python\\anaconda\\lib\\site-packages\\torch\\serialization.py:241: UserWarning: Couldn't retrieve source code for container of type CountryNet. It won't be checked for correctness upon loading.\n",
      "  \"type \" + obj.__name__ + \". It won't be checked \"\n"
     ]
    }
   ],
   "source": [
    "torch.save(country_net,'D:/数据/CountryNet_pytorch.pt')"
   ]
  },
  {
   "cell_type": "code",
   "execution_count": 34,
   "metadata": {},
   "outputs": [],
   "source": [
    "my_model = torch.load('D:/数据/CountryNet_pytorch.pt')"
   ]
  },
  {
   "cell_type": "code",
   "execution_count": 37,
   "metadata": {},
   "outputs": [
    {
     "name": "stdout",
     "output_type": "stream",
     "text": [
      "tensor([181.1911], grad_fn=<AddBackward>)\n"
     ]
    }
   ],
   "source": [
    "x = torch.Tensor([(16.5 - mean) / std])\n",
    "y = my_model(x)\n",
    "print(y * std + mean)"
   ]
  },
  {
   "cell_type": "code",
   "execution_count": null,
   "metadata": {},
   "outputs": [],
   "source": []
  }
 ],
 "metadata": {
  "anaconda-cloud": {},
  "kernelspec": {
   "display_name": "Python [Root]",
   "language": "python",
   "name": "Python [Root]"
  },
  "language_info": {
   "codemirror_mode": {
    "name": "ipython",
    "version": 3
   },
   "file_extension": ".py",
   "mimetype": "text/x-python",
   "name": "python",
   "nbconvert_exporter": "python",
   "pygments_lexer": "ipython3",
   "version": "3.5.4"
  }
 },
 "nbformat": 4,
 "nbformat_minor": 1
}
