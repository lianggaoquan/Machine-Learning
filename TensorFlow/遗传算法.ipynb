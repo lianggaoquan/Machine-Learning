{
 "cells": [
  {
   "cell_type": "markdown",
   "metadata": {},
   "source": [
    "## 自己用 list 实现的遗传算法"
   ]
  },
  {
   "cell_type": "code",
   "execution_count": 1,
   "metadata": {},
   "outputs": [],
   "source": [
    "import random\n",
    "import math"
   ]
  },
  {
   "cell_type": "code",
   "execution_count": 2,
   "metadata": {},
   "outputs": [],
   "source": [
    "length = 17"
   ]
  },
  {
   "cell_type": "code",
   "execution_count": 3,
   "metadata": {},
   "outputs": [],
   "source": [
    "def decimal(chrom):\n",
    "    res = 0\n",
    "    for i in range(len(chrom)-1,-1,-1):\n",
    "        res += chrom[i]*(2**i)\n",
    "    return res"
   ]
  },
  {
   "cell_type": "code",
   "execution_count": 4,
   "metadata": {},
   "outputs": [],
   "source": [
    "def decode(chrom):\n",
    "    # length of chromosome is 17\n",
    "    # x1 = 0, x2 = 9\n",
    "    return 0 + decimal(chrom)*(9-0) / ((2**length)-1)"
   ]
  },
  {
   "cell_type": "code",
   "execution_count": 5,
   "metadata": {},
   "outputs": [],
   "source": [
    "def fitness(chrom):\n",
    "    x = decode(chrom)\n",
    "    return x + 10*math.sin(5*x) + 7*math.cos(4*x)"
   ]
  },
  {
   "cell_type": "code",
   "execution_count": 6,
   "metadata": {},
   "outputs": [],
   "source": [
    "def population(count,length):\n",
    "    _population = []\n",
    "    for _ in range(count):\n",
    "        chrom = []\n",
    "        for i in range(length):\n",
    "            chrom.append(random.randint(0,1))\n",
    "        _population.append(chrom)\n",
    "    return _population"
   ]
  },
  {
   "cell_type": "code",
   "execution_count": 7,
   "metadata": {},
   "outputs": [],
   "source": [
    "def selection(population, retain_rate):\n",
    "    grade = [(fitness(chrom),chrom) for chrom in population]\n",
    "    grade = [x[1] for x in sorted(grade,reverse=True)]\n",
    "    \n",
    "    retain_length = int(len(grade)*retain_rate)\n",
    "    # 选择适应性强的个体\n",
    "    parents = grade[:retain_length]\n",
    "    return parents"
   ]
  },
  {
   "cell_type": "code",
   "execution_count": 8,
   "metadata": {},
   "outputs": [],
   "source": [
    "def crossover(population,parents):\n",
    "    children = []\n",
    "    \n",
    "    # the number of children\n",
    "    target_count = len(population) - len(parents)\n",
    "    for _ in range(target_count):\n",
    "        male = parents[random.randint(0,len(parents)-1)]\n",
    "        female = parents[random.randint(0,len(parents)-1)]\n",
    "        child = male\n",
    "        if male != female:\n",
    "            # crossover\n",
    "            pos = random.randint(0,length)\n",
    "            child[:pos] = male[:pos]\n",
    "            child[pos:] = female[pos:]\n",
    "            children.append(child)\n",
    "    population = population + children\n",
    "    return population"
   ]
  },
  {
   "cell_type": "code",
   "execution_count": 9,
   "metadata": {},
   "outputs": [],
   "source": [
    "def mutation(population, mutate_rate):\n",
    "    for chrom in population:\n",
    "        if random.random() < mutate_rate:\n",
    "            pos = random.randint(0,length-1)\n",
    "            chrom[pos] = int(not chrom[pos])\n",
    "    return population"
   ]
  },
  {
   "cell_type": "code",
   "execution_count": 10,
   "metadata": {},
   "outputs": [],
   "source": [
    "def result(population):\n",
    "    grade = [(fitness(chrom),chrom) for chrom in population]\n",
    "    grade = [x[1] for x in sorted(grade,reverse=True)]\n",
    "    return decode(grade[0])"
   ]
  },
  {
   "cell_type": "code",
   "execution_count": 11,
   "metadata": {},
   "outputs": [
    {
     "name": "stdout",
     "output_type": "stream",
     "text": [
      "7.878356005523724\n"
     ]
    }
   ],
   "source": [
    "# test\n",
    "count = 300\n",
    "pop = population(count,length)\n",
    "\n",
    "for epoch in range(100):\n",
    "    parents = selection(pop,retain_rate=0.2)\n",
    "    pop = crossover(pop, parents)\n",
    "    pop = mutation(pop, mutate_rate=0.01)\n",
    "result = result(pop)\n",
    "print(result)"
   ]
  },
  {
   "cell_type": "code",
   "execution_count": 12,
   "metadata": {},
   "outputs": [],
   "source": [
    "# 7.865584301638044\n",
    "# 7.878356005523724"
   ]
  }
 ],
 "metadata": {
  "anaconda-cloud": {},
  "kernelspec": {
   "display_name": "Python [Root]",
   "language": "python",
   "name": "Python [Root]"
  },
  "language_info": {
   "codemirror_mode": {
    "name": "ipython",
    "version": 3
   },
   "file_extension": ".py",
   "mimetype": "text/x-python",
   "name": "python",
   "nbconvert_exporter": "python",
   "pygments_lexer": "ipython3",
   "version": "3.5.4"
  }
 },
 "nbformat": 4,
 "nbformat_minor": 1
}
