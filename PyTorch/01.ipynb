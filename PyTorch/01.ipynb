{
 "cells": [
  {
   "cell_type": "code",
   "execution_count": null,
   "metadata": {
    "collapsed": true
   },
   "outputs": [],
   "source": [
    "import torch"
   ]
  },
  {
   "cell_type": "code",
   "execution_count": null,
   "metadata": {
    "collapsed": true
   },
   "outputs": [],
   "source": [
    "N, D_in, H, D_out = 64,1000,100,10"
   ]
  },
  {
   "cell_type": "code",
   "execution_count": null,
   "metadata": {
    "collapsed": true
   },
   "outputs": [],
   "source": [
    "x = torch.randn(N,D_in)\n",
    "y = torch.randn(N,D_out)\n",
    "\n",
    "w1 = torch.randn(D_in,H,requires_grad=True)\n",
    "w2 = torch.randn(H,D_out,requires_grad=True)"
   ]
  },
  {
   "cell_type": "code",
   "execution_count": null,
   "metadata": {
    "collapsed": false
   },
   "outputs": [],
   "source": [
    "learning_rate = 1e-6\n",
    "for t in range(500):\n",
    "    # mm is similar with matmul, but not support broadcast\n",
    "    y_pred = x.mm(w1).clamp(min=0).mm(w2)\n",
    "    loss = (y_pred - y).pow(2).sum()\n",
    "    \n",
    "    if t % 100 == 0:\n",
    "        print(loss)\n",
    "        \n",
    "    loss.backward()\n",
    "    \n",
    "    with torch.no_grad():\n",
    "        w1 -= learning_rate*w1.grad\n",
    "        w2 -= learning_rate*w2.grad\n",
    "        w1.grad.zero_()\n",
    "        w2.grad.zero_()"
   ]
  },
  {
   "cell_type": "markdown",
   "metadata": {},
   "source": [
    "## PyTorch nn"
   ]
  },
  {
   "cell_type": "code",
   "execution_count": null,
   "metadata": {
    "collapsed": false
   },
   "outputs": [],
   "source": [
    "model = torch.nn.Sequential(\n",
    "            torch.nn.Linear(D_in,H),\n",
    "            torch.nn.ReLU(),\n",
    "            torch.nn.Linear(H,D_out))\n",
    "\n",
    "learning_rate = 1e-4\n",
    "optimizer = torch.optim.Adam(model.parameters(),lr=learning_rate)\n",
    "\n",
    "for t in range(500):\n",
    "    y_pred = model(x)\n",
    "    loss = torch.nn.functional.mse_loss(y_pred,y)\n",
    "    \n",
    "    if t % 100 == 0:\n",
    "        print(loss)\n",
    "    loss.backward()\n",
    "    \n",
    "    optimizer.step()\n",
    "    optimizer.zero_grad()"
   ]
  },
  {
   "cell_type": "markdown",
   "metadata": {},
   "source": [
    "## PyTorch DataLoaders"
   ]
  },
  {
   "cell_type": "code",
   "execution_count": 1,
   "metadata": {
    "collapsed": true
   },
   "outputs": [],
   "source": [
    "import torch\n",
    "from torch.utils.data import DataLoader,TensorDataset\n",
    "import numpy as np"
   ]
  },
  {
   "cell_type": "code",
   "execution_count": 3,
   "metadata": {
    "collapsed": false
   },
   "outputs": [],
   "source": [
    "N, D_in, H, D_out = 64,1000,100,10\n",
    "# x = torch.randn(N,D_in)\n",
    "# y = torch.randn(N,D_out)\n",
    "\n",
    "x = np.random.randn(N,D_in)\n",
    "y = np.random.randn(N,D_out)"
   ]
  },
  {
   "cell_type": "code",
   "execution_count": 4,
   "metadata": {
    "collapsed": true
   },
   "outputs": [],
   "source": [
    "x = torch.Tensor(x)\n",
    "y = torch.Tensor(y)"
   ]
  },
  {
   "cell_type": "code",
   "execution_count": 5,
   "metadata": {
    "collapsed": true
   },
   "outputs": [],
   "source": [
    "loader = DataLoader(TensorDataset(x,y),batch_size=8)"
   ]
  },
  {
   "cell_type": "code",
   "execution_count": 6,
   "metadata": {
    "collapsed": true
   },
   "outputs": [],
   "source": [
    "class TwoLayerNet(torch.nn.Module):\n",
    "    def __init__(self,D_in,H,D_out):\n",
    "        super(TwoLayerNet,self).__init__()\n",
    "        self.linear1 = torch.nn.Linear(D_in,H)\n",
    "        self.linear2 = torch.nn.Linear(H,D_out)\n",
    "    \n",
    "    def forward(self,x):\n",
    "        h_relu = self.linear1(x).clamp(min=0)   # clamp(min=0) is the same as ReLU function\n",
    "        y_pred = self.linear2(h_relu)\n",
    "        return y_pred"
   ]
  },
  {
   "cell_type": "code",
   "execution_count": 7,
   "metadata": {
    "collapsed": false
   },
   "outputs": [],
   "source": [
    "model = TwoLayerNet(D_in,H,D_out)\n",
    "optimizer = torch.optim.SGD(model.parameters(),lr=1e-2)"
   ]
  },
  {
   "cell_type": "code",
   "execution_count": 8,
   "metadata": {
    "collapsed": false
   },
   "outputs": [
    {
     "name": "stdout",
     "output_type": "stream",
     "text": [
      "epoch 0, loss:8.96192455291748\n",
      "epoch 1, loss:8.122140884399414\n",
      "epoch 2, loss:7.422724723815918\n",
      "epoch 3, loss:6.831385612487793\n",
      "epoch 4, loss:6.316688060760498\n",
      "epoch 5, loss:5.8617024421691895\n",
      "epoch 6, loss:5.453439235687256\n",
      "epoch 7, loss:5.080478191375732\n",
      "epoch 8, loss:4.73899507522583\n",
      "epoch 9, loss:4.425826549530029\n",
      "epoch 10, loss:4.133258819580078\n",
      "epoch 11, loss:3.8617002964019775\n",
      "epoch 12, loss:3.6074259281158447\n",
      "epoch 13, loss:3.369208335876465\n",
      "epoch 14, loss:3.1448025703430176\n",
      "epoch 15, loss:2.9338207244873047\n",
      "epoch 16, loss:2.7353134155273438\n",
      "epoch 17, loss:2.5480527877807617\n",
      "epoch 18, loss:2.3729209899902344\n",
      "epoch 19, loss:2.207909345626831\n"
     ]
    }
   ],
   "source": [
    "for epoch in range(20):\n",
    "    epoch_loss = 0\n",
    "    for x_batch,y_batch in loader:\n",
    "        y_pred = model(x_batch)\n",
    "        loss = torch.nn.functional.mse_loss(y_pred,y_batch)\n",
    "        \n",
    "        epoch_loss += loss\n",
    "        \n",
    "        loss.backward()\n",
    "        optimizer.step()\n",
    "        optimizer.zero_grad()\n",
    "    print('epoch {}, loss:{}'.format(epoch,epoch_loss))"
   ]
  },
  {
   "cell_type": "code",
   "execution_count": null,
   "metadata": {
    "collapsed": true
   },
   "outputs": [],
   "source": []
  },
  {
   "cell_type": "code",
   "execution_count": null,
   "metadata": {
    "collapsed": true
   },
   "outputs": [],
   "source": []
  }
 ],
 "metadata": {
  "anaconda-cloud": {},
  "kernelspec": {
   "display_name": "Python [Root]",
   "language": "python",
   "name": "Python [Root]"
  },
  "language_info": {
   "codemirror_mode": {
    "name": "ipython",
    "version": 3
   },
   "file_extension": ".py",
   "mimetype": "text/x-python",
   "name": "python",
   "nbconvert_exporter": "python",
   "pygments_lexer": "ipython3",
   "version": "3.5.2"
  }
 },
 "nbformat": 4,
 "nbformat_minor": 0
}
