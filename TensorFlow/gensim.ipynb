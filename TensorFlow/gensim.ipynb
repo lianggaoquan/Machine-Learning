{
  "nbformat": 4,
  "nbformat_minor": 0,
  "metadata": {
    "colab": {
      "name": "gensim.ipynb",
      "version": "0.3.2",
      "provenance": [],
      "collapsed_sections": [],
      "toc_visible": true
    },
    "kernelspec": {
      "name": "python3",
      "display_name": "Python 3"
    },
    "accelerator": "GPU"
  },
  "cells": [
    {
      "metadata": {
        "id": "P-Si3FODBQ91",
        "colab_type": "code",
        "colab": {}
      },
      "cell_type": "code",
      "source": [
        "from gensim.models import KeyedVectors,Word2Vec\n",
        "import logging\n",
        "import os"
      ],
      "execution_count": 0,
      "outputs": []
    },
    {
      "metadata": {
        "id": "CqRSU7OMGZtd",
        "colab_type": "code",
        "colab": {
          "base_uri": "https://localhost:8080/",
          "height": 4627
        },
        "outputId": "ba9ad264-50b0-44e8-accb-aee7a6fc1cd4"
      },
      "cell_type": "code",
      "source": [
        "class Text8Sentences(object):\n",
        "    def __init__(self, fname, maxlen):\n",
        "        self.fname = fname\n",
        "        self.maxlen = maxlen\n",
        "        \n",
        "    def __iter__(self):\n",
        "        with open(self.fname, \"rb\") as ftext:\n",
        "            text = ftext.read().decode('utf-8').split(\" \")\n",
        "            words = []\n",
        "            for word in text:\n",
        "                if len(words) >= self.maxlen:\n",
        "                    yield words\n",
        "                    words = []\n",
        "                words.append(word)\n",
        "            yield words\n",
        "\n",
        "logging.basicConfig(format='%(asctime)s : %(levelname)s : %(message)s', level=logging.INFO)\n",
        "\n",
        "DATA_DIR = \"./\"\n",
        "sentences = Text8Sentences(os.path.join(DATA_DIR, \"text8\"), 50)\n",
        "model = Word2Vec(sentences, size=300, min_count=30)"
      ],
      "execution_count": 5,
      "outputs": [
        {
          "output_type": "stream",
          "text": [
            "2018-10-21 00:50:40,356 : INFO : collecting all words and their counts\n",
            "2018-10-21 00:50:42,115 : INFO : PROGRESS: at sentence #0, processed 0 words, keeping 0 word types\n",
            "2018-10-21 00:50:42,325 : INFO : PROGRESS: at sentence #10000, processed 500000 words, keeping 33464 word types\n",
            "2018-10-21 00:50:42,542 : INFO : PROGRESS: at sentence #20000, processed 1000000 words, keeping 52755 word types\n",
            "2018-10-21 00:50:42,765 : INFO : PROGRESS: at sentence #30000, processed 1500000 words, keeping 65589 word types\n",
            "2018-10-21 00:50:42,983 : INFO : PROGRESS: at sentence #40000, processed 2000000 words, keeping 78383 word types\n",
            "2018-10-21 00:50:43,203 : INFO : PROGRESS: at sentence #50000, processed 2500000 words, keeping 88008 word types\n",
            "2018-10-21 00:50:43,422 : INFO : PROGRESS: at sentence #60000, processed 3000000 words, keeping 96645 word types\n",
            "2018-10-21 00:50:43,643 : INFO : PROGRESS: at sentence #70000, processed 3500000 words, keeping 104309 word types\n",
            "2018-10-21 00:50:43,863 : INFO : PROGRESS: at sentence #80000, processed 4000000 words, keeping 111461 word types\n",
            "2018-10-21 00:50:44,079 : INFO : PROGRESS: at sentence #90000, processed 4500000 words, keeping 118752 word types\n",
            "2018-10-21 00:50:44,302 : INFO : PROGRESS: at sentence #100000, processed 5000000 words, keeping 125355 word types\n",
            "2018-10-21 00:50:44,528 : INFO : PROGRESS: at sentence #110000, processed 5500000 words, keeping 133141 word types\n",
            "2018-10-21 00:50:44,758 : INFO : PROGRESS: at sentence #120000, processed 6000000 words, keeping 139566 word types\n",
            "2018-10-21 00:50:44,977 : INFO : PROGRESS: at sentence #130000, processed 6500000 words, keeping 145782 word types\n",
            "2018-10-21 00:50:45,199 : INFO : PROGRESS: at sentence #140000, processed 7000000 words, keeping 151934 word types\n",
            "2018-10-21 00:50:45,422 : INFO : PROGRESS: at sentence #150000, processed 7500000 words, keeping 158046 word types\n",
            "2018-10-21 00:50:45,651 : INFO : PROGRESS: at sentence #160000, processed 8000000 words, keeping 164115 word types\n",
            "2018-10-21 00:50:45,877 : INFO : PROGRESS: at sentence #170000, processed 8500000 words, keeping 171256 word types\n",
            "2018-10-21 00:50:46,107 : INFO : PROGRESS: at sentence #180000, processed 9000000 words, keeping 178163 word types\n",
            "2018-10-21 00:50:46,331 : INFO : PROGRESS: at sentence #190000, processed 9500000 words, keeping 184129 word types\n",
            "2018-10-21 00:50:46,556 : INFO : PROGRESS: at sentence #200000, processed 10000000 words, keeping 189075 word types\n",
            "2018-10-21 00:50:46,789 : INFO : PROGRESS: at sentence #210000, processed 10500000 words, keeping 194511 word types\n",
            "2018-10-21 00:50:47,010 : INFO : PROGRESS: at sentence #220000, processed 11000000 words, keeping 198758 word types\n",
            "2018-10-21 00:50:47,236 : INFO : PROGRESS: at sentence #230000, processed 11500000 words, keeping 203441 word types\n",
            "2018-10-21 00:50:47,462 : INFO : PROGRESS: at sentence #240000, processed 12000000 words, keeping 207895 word types\n",
            "2018-10-21 00:50:47,690 : INFO : PROGRESS: at sentence #250000, processed 12500000 words, keeping 212668 word types\n",
            "2018-10-21 00:50:47,915 : INFO : PROGRESS: at sentence #260000, processed 13000000 words, keeping 217128 word types\n",
            "2018-10-21 00:50:48,147 : INFO : PROGRESS: at sentence #270000, processed 13500000 words, keeping 221416 word types\n",
            "2018-10-21 00:50:48,368 : INFO : PROGRESS: at sentence #280000, processed 14000000 words, keeping 226855 word types\n",
            "2018-10-21 00:50:48,591 : INFO : PROGRESS: at sentence #290000, processed 14500000 words, keeping 231424 word types\n",
            "2018-10-21 00:50:48,819 : INFO : PROGRESS: at sentence #300000, processed 15000000 words, keeping 237391 word types\n",
            "2018-10-21 00:50:49,044 : INFO : PROGRESS: at sentence #310000, processed 15500000 words, keeping 241697 word types\n",
            "2018-10-21 00:50:49,270 : INFO : PROGRESS: at sentence #320000, processed 16000000 words, keeping 245649 word types\n",
            "2018-10-21 00:50:49,497 : INFO : PROGRESS: at sentence #330000, processed 16500000 words, keeping 249621 word types\n",
            "2018-10-21 00:50:49,733 : INFO : PROGRESS: at sentence #340000, processed 17000000 words, keeping 253834 word types\n",
            "2018-10-21 00:50:50,036 : INFO : collected 253855 word types from a corpus of 17005208 raw words and 340105 sentences\n",
            "2018-10-21 00:50:50,037 : INFO : Loading a fresh vocabulary\n",
            "2018-10-21 00:50:50,282 : INFO : effective_min_count=30 retains 25097 unique words (9% of original 253855, drops 228758)\n",
            "2018-10-21 00:50:50,283 : INFO : effective_min_count=30 leaves 16191060 word corpus (95% of original 17005208, drops 814148)\n",
            "2018-10-21 00:50:50,372 : INFO : deleting the raw counts dictionary of 253855 items\n",
            "2018-10-21 00:50:50,478 : INFO : sample=0.001 downsamples 38 most-common words\n",
            "2018-10-21 00:50:50,480 : INFO : downsampling leaves estimated 11928484 word corpus (73.7% of prior 16191060)\n",
            "2018-10-21 00:50:50,572 : INFO : estimated required memory for 25097 words and 300 dimensions: 72781300 bytes\n",
            "2018-10-21 00:50:50,574 : INFO : resetting layer weights\n",
            "2018-10-21 00:50:50,941 : INFO : training model with 3 workers on 25097 vocabulary and 300 features, using sg=0 hs=0 sample=0.001 negative=5 window=5\n",
            "2018-10-21 00:50:52,709 : INFO : EPOCH 1 - PROGRESS: at 0.06% examples, 4250 words/s, in_qsize 5, out_qsize 1\n",
            "2018-10-21 00:50:53,705 : INFO : EPOCH 1 - PROGRESS: at 2.76% examples, 120764 words/s, in_qsize 4, out_qsize 1\n",
            "2018-10-21 00:50:54,741 : INFO : EPOCH 1 - PROGRESS: at 5.53% examples, 173323 words/s, in_qsize 5, out_qsize 0\n",
            "2018-10-21 00:50:55,761 : INFO : EPOCH 1 - PROGRESS: at 8.29% examples, 203699 words/s, in_qsize 5, out_qsize 0\n",
            "2018-10-21 00:50:56,765 : INFO : EPOCH 1 - PROGRESS: at 11.00% examples, 223140 words/s, in_qsize 5, out_qsize 0\n",
            "2018-10-21 00:50:57,793 : INFO : EPOCH 1 - PROGRESS: at 13.76% examples, 237860 words/s, in_qsize 5, out_qsize 0\n",
            "2018-10-21 00:50:58,826 : INFO : EPOCH 1 - PROGRESS: at 16.47% examples, 247641 words/s, in_qsize 5, out_qsize 0\n",
            "2018-10-21 00:50:59,831 : INFO : EPOCH 1 - PROGRESS: at 19.17% examples, 255961 words/s, in_qsize 5, out_qsize 0\n",
            "2018-10-21 00:51:00,853 : INFO : EPOCH 1 - PROGRESS: at 21.88% examples, 262166 words/s, in_qsize 4, out_qsize 1\n",
            "2018-10-21 00:51:01,870 : INFO : EPOCH 1 - PROGRESS: at 24.58% examples, 267718 words/s, in_qsize 4, out_qsize 1\n",
            "2018-10-21 00:51:02,905 : INFO : EPOCH 1 - PROGRESS: at 27.34% examples, 272417 words/s, in_qsize 5, out_qsize 0\n",
            "2018-10-21 00:51:03,914 : INFO : EPOCH 1 - PROGRESS: at 29.99% examples, 275942 words/s, in_qsize 5, out_qsize 0\n",
            "2018-10-21 00:51:04,958 : INFO : EPOCH 1 - PROGRESS: at 32.70% examples, 278617 words/s, in_qsize 5, out_qsize 2\n",
            "2018-10-21 00:51:05,981 : INFO : EPOCH 1 - PROGRESS: at 35.46% examples, 281868 words/s, in_qsize 6, out_qsize 0\n",
            "2018-10-21 00:51:07,003 : INFO : EPOCH 1 - PROGRESS: at 38.16% examples, 284150 words/s, in_qsize 5, out_qsize 0\n",
            "2018-10-21 00:51:08,017 : INFO : EPOCH 1 - PROGRESS: at 40.87% examples, 286122 words/s, in_qsize 5, out_qsize 0\n",
            "2018-10-21 00:51:09,029 : INFO : EPOCH 1 - PROGRESS: at 43.57% examples, 288082 words/s, in_qsize 5, out_qsize 0\n",
            "2018-10-21 00:51:10,031 : INFO : EPOCH 1 - PROGRESS: at 46.16% examples, 289232 words/s, in_qsize 5, out_qsize 0\n",
            "2018-10-21 00:51:11,044 : INFO : EPOCH 1 - PROGRESS: at 48.87% examples, 290783 words/s, in_qsize 5, out_qsize 0\n",
            "2018-10-21 00:51:12,054 : INFO : EPOCH 1 - PROGRESS: at 51.63% examples, 292505 words/s, in_qsize 5, out_qsize 0\n",
            "2018-10-21 00:51:13,076 : INFO : EPOCH 1 - PROGRESS: at 54.28% examples, 293347 words/s, in_qsize 5, out_qsize 0\n",
            "2018-10-21 00:51:14,078 : INFO : EPOCH 1 - PROGRESS: at 56.98% examples, 294637 words/s, in_qsize 5, out_qsize 0\n",
            "2018-10-21 00:51:15,099 : INFO : EPOCH 1 - PROGRESS: at 59.69% examples, 295574 words/s, in_qsize 5, out_qsize 0\n",
            "2018-10-21 00:51:16,112 : INFO : EPOCH 1 - PROGRESS: at 62.39% examples, 296510 words/s, in_qsize 5, out_qsize 0\n",
            "2018-10-21 00:51:17,145 : INFO : EPOCH 1 - PROGRESS: at 65.16% examples, 297432 words/s, in_qsize 5, out_qsize 0\n",
            "2018-10-21 00:51:18,145 : INFO : EPOCH 1 - PROGRESS: at 67.74% examples, 297854 words/s, in_qsize 5, out_qsize 0\n",
            "2018-10-21 00:51:19,173 : INFO : EPOCH 1 - PROGRESS: at 70.45% examples, 298536 words/s, in_qsize 5, out_qsize 0\n",
            "2018-10-21 00:51:20,178 : INFO : EPOCH 1 - PROGRESS: at 73.15% examples, 299426 words/s, in_qsize 5, out_qsize 0\n",
            "2018-10-21 00:51:21,178 : INFO : EPOCH 1 - PROGRESS: at 75.92% examples, 300092 words/s, in_qsize 5, out_qsize 0\n",
            "2018-10-21 00:51:22,185 : INFO : EPOCH 1 - PROGRESS: at 78.62% examples, 300528 words/s, in_qsize 5, out_qsize 0\n",
            "2018-10-21 00:51:23,189 : INFO : EPOCH 1 - PROGRESS: at 81.27% examples, 300908 words/s, in_qsize 5, out_qsize 0\n",
            "2018-10-21 00:51:24,197 : INFO : EPOCH 1 - PROGRESS: at 83.97% examples, 301501 words/s, in_qsize 5, out_qsize 0\n",
            "2018-10-21 00:51:25,212 : INFO : EPOCH 1 - PROGRESS: at 86.74% examples, 302149 words/s, in_qsize 5, out_qsize 0\n",
            "2018-10-21 00:51:26,248 : INFO : EPOCH 1 - PROGRESS: at 89.44% examples, 302398 words/s, in_qsize 6, out_qsize 2\n",
            "2018-10-21 00:51:27,276 : INFO : EPOCH 1 - PROGRESS: at 92.27% examples, 303054 words/s, in_qsize 5, out_qsize 0\n",
            "2018-10-21 00:51:28,293 : INFO : EPOCH 1 - PROGRESS: at 95.03% examples, 303600 words/s, in_qsize 5, out_qsize 0\n",
            "2018-10-21 00:51:29,324 : INFO : EPOCH 1 - PROGRESS: at 97.79% examples, 303929 words/s, in_qsize 4, out_qsize 1\n",
            "2018-10-21 00:51:30,332 : INFO : EPOCH 1 - PROGRESS: at 99.50% examples, 301303 words/s, in_qsize 6, out_qsize 1\n",
            "2018-10-21 00:51:30,472 : INFO : worker thread finished; awaiting finish of 2 more threads\n",
            "2018-10-21 00:51:30,482 : INFO : worker thread finished; awaiting finish of 1 more threads\n",
            "2018-10-21 00:51:30,497 : INFO : worker thread finished; awaiting finish of 0 more threads\n",
            "2018-10-21 00:51:30,498 : INFO : EPOCH - 1 : training on 17005208 raw words (11927429 effective words) took 39.5s, 301579 effective words/s\n",
            "2018-10-21 00:51:32,168 : INFO : EPOCH 2 - PROGRESS: at 0.06% examples, 4471 words/s, in_qsize 3, out_qsize 0\n",
            "2018-10-21 00:51:33,187 : INFO : EPOCH 2 - PROGRESS: at 2.00% examples, 89804 words/s, in_qsize 5, out_qsize 0\n",
            "2018-10-21 00:51:34,191 : INFO : EPOCH 2 - PROGRESS: at 4.70% examples, 152301 words/s, in_qsize 4, out_qsize 1\n",
            "2018-10-21 00:51:35,207 : INFO : EPOCH 2 - PROGRESS: at 7.47% examples, 187519 words/s, in_qsize 5, out_qsize 0\n",
            "2018-10-21 00:51:36,229 : INFO : EPOCH 2 - PROGRESS: at 10.23% examples, 211146 words/s, in_qsize 4, out_qsize 1\n",
            "2018-10-21 00:51:37,267 : INFO : EPOCH 2 - PROGRESS: at 13.05% examples, 228121 words/s, in_qsize 5, out_qsize 0\n",
            "2018-10-21 00:51:38,279 : INFO : EPOCH 2 - PROGRESS: at 15.76% examples, 239842 words/s, in_qsize 5, out_qsize 0\n",
            "2018-10-21 00:51:39,280 : INFO : EPOCH 2 - PROGRESS: at 18.41% examples, 248754 words/s, in_qsize 5, out_qsize 0\n",
            "2018-10-21 00:51:40,293 : INFO : EPOCH 2 - PROGRESS: at 21.11% examples, 255825 words/s, in_qsize 4, out_qsize 1\n",
            "2018-10-21 00:51:41,298 : INFO : EPOCH 2 - PROGRESS: at 23.82% examples, 262506 words/s, in_qsize 5, out_qsize 0\n",
            "2018-10-21 00:51:42,311 : INFO : EPOCH 2 - PROGRESS: at 26.52% examples, 267427 words/s, in_qsize 5, out_qsize 0\n",
            "2018-10-21 00:51:43,338 : INFO : EPOCH 2 - PROGRESS: at 29.17% examples, 270997 words/s, in_qsize 5, out_qsize 0\n",
            "2018-10-21 00:51:44,357 : INFO : EPOCH 2 - PROGRESS: at 31.93% examples, 275103 words/s, in_qsize 5, out_qsize 0\n",
            "2018-10-21 00:51:45,381 : INFO : EPOCH 2 - PROGRESS: at 34.58% examples, 277712 words/s, in_qsize 5, out_qsize 0\n",
            "2018-10-21 00:51:46,400 : INFO : EPOCH 2 - PROGRESS: at 37.28% examples, 280326 words/s, in_qsize 5, out_qsize 0\n",
            "2018-10-21 00:51:47,428 : INFO : EPOCH 2 - PROGRESS: at 40.05% examples, 282751 words/s, in_qsize 5, out_qsize 0\n",
            "2018-10-21 00:51:48,436 : INFO : EPOCH 2 - PROGRESS: at 42.75% examples, 285003 words/s, in_qsize 5, out_qsize 0\n",
            "2018-10-21 00:51:49,471 : INFO : EPOCH 2 - PROGRESS: at 45.46% examples, 286540 words/s, in_qsize 5, out_qsize 0\n",
            "2018-10-21 00:51:50,474 : INFO : EPOCH 2 - PROGRESS: at 48.16% examples, 288415 words/s, in_qsize 5, out_qsize 0\n",
            "2018-10-21 00:51:51,492 : INFO : EPOCH 2 - PROGRESS: at 50.75% examples, 289214 words/s, in_qsize 4, out_qsize 1\n",
            "2018-10-21 00:51:52,496 : INFO : EPOCH 2 - PROGRESS: at 53.51% examples, 290958 words/s, in_qsize 5, out_qsize 0\n",
            "2018-10-21 00:51:53,518 : INFO : EPOCH 2 - PROGRESS: at 56.22% examples, 292243 words/s, in_qsize 5, out_qsize 0\n",
            "2018-10-21 00:51:54,530 : INFO : EPOCH 2 - PROGRESS: at 58.92% examples, 293345 words/s, in_qsize 6, out_qsize 0\n",
            "2018-10-21 00:51:55,542 : INFO : EPOCH 2 - PROGRESS: at 61.63% examples, 294415 words/s, in_qsize 5, out_qsize 0\n",
            "2018-10-21 00:51:56,563 : INFO : EPOCH 2 - PROGRESS: at 64.33% examples, 295299 words/s, in_qsize 5, out_qsize 0\n",
            "2018-10-21 00:51:57,586 : INFO : EPOCH 2 - PROGRESS: at 67.10% examples, 296300 words/s, in_qsize 5, out_qsize 0\n",
            "2018-10-21 00:51:58,614 : INFO : EPOCH 2 - PROGRESS: at 69.80% examples, 297012 words/s, in_qsize 5, out_qsize 0\n",
            "2018-10-21 00:51:59,615 : INFO : EPOCH 2 - PROGRESS: at 72.51% examples, 298005 words/s, in_qsize 5, out_qsize 0\n",
            "2018-10-21 00:52:00,620 : INFO : EPOCH 2 - PROGRESS: at 75.21% examples, 298668 words/s, in_qsize 5, out_qsize 0\n",
            "2018-10-21 00:52:01,624 : INFO : EPOCH 2 - PROGRESS: at 77.98% examples, 299226 words/s, in_qsize 5, out_qsize 0\n",
            "2018-10-21 00:52:02,641 : INFO : EPOCH 2 - PROGRESS: at 80.68% examples, 299784 words/s, in_qsize 5, out_qsize 0\n",
            "2018-10-21 00:52:03,646 : INFO : EPOCH 2 - PROGRESS: at 83.39% examples, 300334 words/s, in_qsize 5, out_qsize 0\n",
            "2018-10-21 00:52:04,660 : INFO : EPOCH 2 - PROGRESS: at 86.09% examples, 300894 words/s, in_qsize 5, out_qsize 0\n",
            "2018-10-21 00:52:05,679 : INFO : EPOCH 2 - PROGRESS: at 88.80% examples, 301300 words/s, in_qsize 5, out_qsize 0\n",
            "2018-10-21 00:52:06,693 : INFO : EPOCH 2 - PROGRESS: at 91.50% examples, 301772 words/s, in_qsize 5, out_qsize 0\n",
            "2018-10-21 00:52:07,694 : INFO : EPOCH 2 - PROGRESS: at 94.21% examples, 302289 words/s, in_qsize 6, out_qsize 0\n",
            "2018-10-21 00:52:08,699 : INFO : EPOCH 2 - PROGRESS: at 96.91% examples, 302734 words/s, in_qsize 5, out_qsize 0\n",
            "2018-10-21 00:52:10,035 : INFO : EPOCH 2 - PROGRESS: at 99.50% examples, 300248 words/s, in_qsize 5, out_qsize 2\n",
            "2018-10-21 00:52:10,170 : INFO : worker thread finished; awaiting finish of 2 more threads\n",
            "2018-10-21 00:52:10,172 : INFO : worker thread finished; awaiting finish of 1 more threads\n",
            "2018-10-21 00:52:10,186 : INFO : worker thread finished; awaiting finish of 0 more threads\n",
            "2018-10-21 00:52:10,187 : INFO : EPOCH - 2 : training on 17005208 raw words (11929481 effective words) took 39.7s, 300629 effective words/s\n",
            "2018-10-21 00:52:11,844 : INFO : EPOCH 3 - PROGRESS: at 0.06% examples, 4499 words/s, in_qsize 3, out_qsize 0\n",
            "2018-10-21 00:52:12,876 : INFO : EPOCH 3 - PROGRESS: at 2.76% examples, 123951 words/s, in_qsize 5, out_qsize 0\n",
            "2018-10-21 00:52:13,896 : INFO : EPOCH 3 - PROGRESS: at 5.53% examples, 177644 words/s, in_qsize 4, out_qsize 1\n",
            "2018-10-21 00:52:14,906 : INFO : EPOCH 3 - PROGRESS: at 8.29% examples, 208005 words/s, in_qsize 5, out_qsize 0\n",
            "2018-10-21 00:52:15,909 : INFO : EPOCH 3 - PROGRESS: at 11.06% examples, 228117 words/s, in_qsize 5, out_qsize 0\n",
            "2018-10-21 00:52:16,913 : INFO : EPOCH 3 - PROGRESS: at 13.70% examples, 241192 words/s, in_qsize 4, out_qsize 1\n",
            "2018-10-21 00:52:17,935 : INFO : EPOCH 3 - PROGRESS: at 16.52% examples, 252784 words/s, in_qsize 5, out_qsize 0\n",
            "2018-10-21 00:52:18,942 : INFO : EPOCH 3 - PROGRESS: at 19.17% examples, 259846 words/s, in_qsize 5, out_qsize 0\n",
            "2018-10-21 00:52:19,961 : INFO : EPOCH 3 - PROGRESS: at 21.88% examples, 265803 words/s, in_qsize 5, out_qsize 0\n",
            "2018-10-21 00:52:20,995 : INFO : EPOCH 3 - PROGRESS: at 24.64% examples, 271315 words/s, in_qsize 6, out_qsize 1\n",
            "2018-10-21 00:52:21,999 : INFO : EPOCH 3 - PROGRESS: at 27.34% examples, 275865 words/s, in_qsize 5, out_qsize 0\n",
            "2018-10-21 00:52:23,025 : INFO : EPOCH 3 - PROGRESS: at 30.05% examples, 279309 words/s, in_qsize 5, out_qsize 0\n",
            "2018-10-21 00:52:24,036 : INFO : EPOCH 3 - PROGRESS: at 32.81% examples, 282977 words/s, in_qsize 5, out_qsize 0\n",
            "2018-10-21 00:52:25,047 : INFO : EPOCH 3 - PROGRESS: at 35.52% examples, 285707 words/s, in_qsize 6, out_qsize 0\n",
            "2018-10-21 00:52:26,090 : INFO : EPOCH 3 - PROGRESS: at 38.28% examples, 287803 words/s, in_qsize 5, out_qsize 0\n",
            "2018-10-21 00:52:27,100 : INFO : EPOCH 3 - PROGRESS: at 40.99% examples, 289654 words/s, in_qsize 5, out_qsize 0\n",
            "2018-10-21 00:52:28,110 : INFO : EPOCH 3 - PROGRESS: at 43.69% examples, 291477 words/s, in_qsize 5, out_qsize 0\n",
            "2018-10-21 00:52:29,134 : INFO : EPOCH 3 - PROGRESS: at 46.46% examples, 293263 words/s, in_qsize 5, out_qsize 0\n",
            "2018-10-21 00:52:30,137 : INFO : EPOCH 3 - PROGRESS: at 49.16% examples, 294766 words/s, in_qsize 5, out_qsize 0\n",
            "2018-10-21 00:52:31,154 : INFO : EPOCH 3 - PROGRESS: at 51.87% examples, 295867 words/s, in_qsize 5, out_qsize 0\n",
            "2018-10-21 00:52:32,158 : INFO : EPOCH 3 - PROGRESS: at 54.57% examples, 297136 words/s, in_qsize 4, out_qsize 1\n",
            "2018-10-21 00:52:33,195 : INFO : EPOCH 3 - PROGRESS: at 57.34% examples, 298108 words/s, in_qsize 5, out_qsize 0\n",
            "2018-10-21 00:52:34,219 : INFO : EPOCH 3 - PROGRESS: at 60.10% examples, 299161 words/s, in_qsize 5, out_qsize 0\n",
            "2018-10-21 00:52:35,250 : INFO : EPOCH 3 - PROGRESS: at 62.86% examples, 300026 words/s, in_qsize 5, out_qsize 0\n",
            "2018-10-21 00:52:36,251 : INFO : EPOCH 3 - PROGRESS: at 65.57% examples, 300887 words/s, in_qsize 5, out_qsize 0\n",
            "2018-10-21 00:52:37,261 : INFO : EPOCH 3 - PROGRESS: at 68.27% examples, 301650 words/s, in_qsize 6, out_qsize 0\n",
            "2018-10-21 00:52:38,271 : INFO : EPOCH 3 - PROGRESS: at 71.04% examples, 302641 words/s, in_qsize 5, out_qsize 0\n",
            "2018-10-21 00:52:39,290 : INFO : EPOCH 3 - PROGRESS: at 73.68% examples, 302994 words/s, in_qsize 4, out_qsize 1\n",
            "2018-10-21 00:52:40,305 : INFO : EPOCH 3 - PROGRESS: at 76.56% examples, 303757 words/s, in_qsize 5, out_qsize 0\n",
            "2018-10-21 00:52:41,316 : INFO : EPOCH 3 - PROGRESS: at 79.33% examples, 304337 words/s, in_qsize 4, out_qsize 1\n",
            "2018-10-21 00:52:42,345 : INFO : EPOCH 3 - PROGRESS: at 82.15% examples, 304961 words/s, in_qsize 5, out_qsize 0\n",
            "2018-10-21 00:52:43,370 : INFO : EPOCH 3 - PROGRESS: at 84.86% examples, 305289 words/s, in_qsize 5, out_qsize 0\n",
            "2018-10-21 00:52:44,399 : INFO : EPOCH 3 - PROGRESS: at 87.68% examples, 305880 words/s, in_qsize 5, out_qsize 0\n",
            "2018-10-21 00:52:45,406 : INFO : EPOCH 3 - PROGRESS: at 90.38% examples, 306386 words/s, in_qsize 5, out_qsize 0\n",
            "2018-10-21 00:52:46,409 : INFO : EPOCH 3 - PROGRESS: at 93.15% examples, 306902 words/s, in_qsize 5, out_qsize 0\n",
            "2018-10-21 00:52:47,452 : INFO : EPOCH 3 - PROGRESS: at 95.91% examples, 307154 words/s, in_qsize 4, out_qsize 1\n",
            "2018-10-21 00:52:48,457 : INFO : EPOCH 3 - PROGRESS: at 98.68% examples, 307543 words/s, in_qsize 6, out_qsize 0\n",
            "2018-10-21 00:52:49,257 : INFO : worker thread finished; awaiting finish of 2 more threads\n",
            "2018-10-21 00:52:49,275 : INFO : worker thread finished; awaiting finish of 1 more threads\n",
            "2018-10-21 00:52:49,284 : INFO : worker thread finished; awaiting finish of 0 more threads\n",
            "2018-10-21 00:52:49,285 : INFO : EPOCH - 3 : training on 17005208 raw words (11927986 effective words) took 39.1s, 305121 effective words/s\n",
            "2018-10-21 00:52:50,956 : INFO : EPOCH 4 - PROGRESS: at 0.06% examples, 4487 words/s, in_qsize 2, out_qsize 0\n",
            "2018-10-21 00:52:51,986 : INFO : EPOCH 4 - PROGRESS: at 2.71% examples, 121015 words/s, in_qsize 4, out_qsize 1\n",
            "2018-10-21 00:52:52,993 : INFO : EPOCH 4 - PROGRESS: at 5.41% examples, 174092 words/s, in_qsize 4, out_qsize 1\n",
            "2018-10-21 00:52:54,002 : INFO : EPOCH 4 - PROGRESS: at 8.23% examples, 206701 words/s, in_qsize 5, out_qsize 0\n",
            "2018-10-21 00:52:55,028 : INFO : EPOCH 4 - PROGRESS: at 11.00% examples, 226150 words/s, in_qsize 5, out_qsize 0\n",
            "2018-10-21 00:52:56,047 : INFO : EPOCH 4 - PROGRESS: at 13.76% examples, 240993 words/s, in_qsize 5, out_qsize 0\n",
            "2018-10-21 00:52:57,056 : INFO : EPOCH 4 - PROGRESS: at 16.52% examples, 252066 words/s, in_qsize 5, out_qsize 0\n",
            "2018-10-21 00:52:58,075 : INFO : EPOCH 4 - PROGRESS: at 19.23% examples, 259606 words/s, in_qsize 5, out_qsize 0\n",
            "2018-10-21 00:52:59,105 : INFO : EPOCH 4 - PROGRESS: at 21.93% examples, 265262 words/s, in_qsize 4, out_qsize 1\n",
            "2018-10-21 00:53:00,128 : INFO : EPOCH 4 - PROGRESS: at 24.70% examples, 271088 words/s, in_qsize 5, out_qsize 0\n",
            "2018-10-21 00:53:01,150 : INFO : EPOCH 4 - PROGRESS: at 27.40% examples, 275255 words/s, in_qsize 4, out_qsize 1\n",
            "2018-10-21 00:53:02,151 : INFO : EPOCH 4 - PROGRESS: at 30.11% examples, 279327 words/s, in_qsize 5, out_qsize 0\n",
            "2018-10-21 00:53:03,163 : INFO : EPOCH 4 - PROGRESS: at 32.87% examples, 282914 words/s, in_qsize 5, out_qsize 0\n",
            "2018-10-21 00:53:04,173 : INFO : EPOCH 4 - PROGRESS: at 35.52% examples, 285179 words/s, in_qsize 4, out_qsize 1\n",
            "2018-10-21 00:53:05,184 : INFO : EPOCH 4 - PROGRESS: at 38.22% examples, 287428 words/s, in_qsize 4, out_qsize 1\n",
            "2018-10-21 00:53:06,184 : INFO : EPOCH 4 - PROGRESS: at 40.93% examples, 289455 words/s, in_qsize 5, out_qsize 0\n",
            "2018-10-21 00:53:07,201 : INFO : EPOCH 4 - PROGRESS: at 43.63% examples, 291174 words/s, in_qsize 5, out_qsize 0\n",
            "2018-10-21 00:53:08,233 : INFO : EPOCH 4 - PROGRESS: at 46.40% examples, 292850 words/s, in_qsize 5, out_qsize 0\n",
            "2018-10-21 00:53:09,248 : INFO : EPOCH 4 - PROGRESS: at 49.10% examples, 294207 words/s, in_qsize 5, out_qsize 0\n",
            "2018-10-21 00:53:10,282 : INFO : EPOCH 4 - PROGRESS: at 51.93% examples, 295754 words/s, in_qsize 5, out_qsize 0\n",
            "2018-10-21 00:53:11,289 : INFO : EPOCH 4 - PROGRESS: at 54.57% examples, 296703 words/s, in_qsize 5, out_qsize 0\n",
            "2018-10-21 00:53:12,316 : INFO : EPOCH 4 - PROGRESS: at 57.34% examples, 297799 words/s, in_qsize 5, out_qsize 0\n",
            "2018-10-21 00:53:13,323 : INFO : EPOCH 4 - PROGRESS: at 60.04% examples, 298782 words/s, in_qsize 5, out_qsize 0\n",
            "2018-10-21 00:53:14,357 : INFO : EPOCH 4 - PROGRESS: at 62.86% examples, 299919 words/s, in_qsize 5, out_qsize 0\n",
            "2018-10-21 00:53:15,397 : INFO : EPOCH 4 - PROGRESS: at 65.57% examples, 300333 words/s, in_qsize 6, out_qsize 2\n",
            "2018-10-21 00:53:16,402 : INFO : EPOCH 4 - PROGRESS: at 68.27% examples, 301152 words/s, in_qsize 5, out_qsize 0\n",
            "2018-10-21 00:53:17,417 : INFO : EPOCH 4 - PROGRESS: at 70.98% examples, 301870 words/s, in_qsize 5, out_qsize 0\n",
            "2018-10-21 00:53:18,453 : INFO : EPOCH 4 - PROGRESS: at 73.68% examples, 302306 words/s, in_qsize 5, out_qsize 0\n",
            "2018-10-21 00:53:19,469 : INFO : EPOCH 4 - PROGRESS: at 76.51% examples, 302852 words/s, in_qsize 5, out_qsize 0\n",
            "2018-10-21 00:53:20,493 : INFO : EPOCH 4 - PROGRESS: at 79.33% examples, 303534 words/s, in_qsize 5, out_qsize 0\n",
            "2018-10-21 00:53:21,527 : INFO : EPOCH 4 - PROGRESS: at 82.15% examples, 304163 words/s, in_qsize 5, out_qsize 0\n",
            "2018-10-21 00:53:22,539 : INFO : EPOCH 4 - PROGRESS: at 84.86% examples, 304632 words/s, in_qsize 5, out_qsize 0\n",
            "2018-10-21 00:53:23,554 : INFO : EPOCH 4 - PROGRESS: at 87.62% examples, 305162 words/s, in_qsize 5, out_qsize 0\n",
            "2018-10-21 00:53:24,558 : INFO : EPOCH 4 - PROGRESS: at 90.33% examples, 305711 words/s, in_qsize 6, out_qsize 0\n",
            "2018-10-21 00:53:25,575 : INFO : EPOCH 4 - PROGRESS: at 93.03% examples, 305942 words/s, in_qsize 4, out_qsize 1\n",
            "2018-10-21 00:53:26,602 : INFO : EPOCH 4 - PROGRESS: at 95.85% examples, 306527 words/s, in_qsize 6, out_qsize 0\n",
            "2018-10-21 00:53:27,633 : INFO : EPOCH 4 - PROGRESS: at 98.56% examples, 306536 words/s, in_qsize 4, out_qsize 1\n",
            "2018-10-21 00:53:28,520 : INFO : worker thread finished; awaiting finish of 2 more threads\n",
            "2018-10-21 00:53:28,537 : INFO : worker thread finished; awaiting finish of 1 more threads\n",
            "2018-10-21 00:53:28,549 : INFO : worker thread finished; awaiting finish of 0 more threads\n",
            "2018-10-21 00:53:28,550 : INFO : EPOCH - 4 : training on 17005208 raw words (11927423 effective words) took 39.3s, 303820 effective words/s\n",
            "2018-10-21 00:53:30,276 : INFO : EPOCH 5 - PROGRESS: at 0.06% examples, 4324 words/s, in_qsize 4, out_qsize 0\n",
            "2018-10-21 00:53:31,293 : INFO : EPOCH 5 - PROGRESS: at 2.59% examples, 113898 words/s, in_qsize 5, out_qsize 0\n",
            "2018-10-21 00:53:32,352 : INFO : EPOCH 5 - PROGRESS: at 5.35% examples, 167860 words/s, in_qsize 5, out_qsize 0\n",
            "2018-10-21 00:53:33,362 : INFO : EPOCH 5 - PROGRESS: at 8.00% examples, 196793 words/s, in_qsize 5, out_qsize 0\n",
            "2018-10-21 00:53:34,379 : INFO : EPOCH 5 - PROGRESS: at 10.58% examples, 214667 words/s, in_qsize 5, out_qsize 0\n",
            "2018-10-21 00:53:35,435 : INFO : EPOCH 5 - PROGRESS: at 13.29% examples, 228370 words/s, in_qsize 5, out_qsize 0\n",
            "2018-10-21 00:53:36,468 : INFO : EPOCH 5 - PROGRESS: at 16.00% examples, 239318 words/s, in_qsize 5, out_qsize 0\n",
            "2018-10-21 00:53:37,476 : INFO : EPOCH 5 - PROGRESS: at 18.58% examples, 247107 words/s, in_qsize 5, out_qsize 0\n",
            "2018-10-21 00:53:38,477 : INFO : EPOCH 5 - PROGRESS: at 21.11% examples, 252475 words/s, in_qsize 4, out_qsize 1\n",
            "2018-10-21 00:53:39,483 : INFO : EPOCH 5 - PROGRESS: at 23.64% examples, 257344 words/s, in_qsize 5, out_qsize 0\n",
            "2018-10-21 00:53:40,489 : INFO : EPOCH 5 - PROGRESS: at 26.23% examples, 261692 words/s, in_qsize 6, out_qsize 0\n",
            "2018-10-21 00:53:41,514 : INFO : EPOCH 5 - PROGRESS: at 28.76% examples, 264631 words/s, in_qsize 5, out_qsize 0\n",
            "2018-10-21 00:53:42,514 : INFO : EPOCH 5 - PROGRESS: at 31.28% examples, 267468 words/s, in_qsize 5, out_qsize 0\n",
            "2018-10-21 00:53:43,520 : INFO : EPOCH 5 - PROGRESS: at 33.93% examples, 270805 words/s, in_qsize 4, out_qsize 1\n",
            "2018-10-21 00:53:44,521 : INFO : EPOCH 5 - PROGRESS: at 36.64% examples, 274291 words/s, in_qsize 5, out_qsize 0\n",
            "2018-10-21 00:53:45,525 : INFO : EPOCH 5 - PROGRESS: at 39.34% examples, 277097 words/s, in_qsize 5, out_qsize 0\n",
            "2018-10-21 00:53:46,535 : INFO : EPOCH 5 - PROGRESS: at 41.99% examples, 279094 words/s, in_qsize 5, out_qsize 0\n",
            "2018-10-21 00:53:47,547 : INFO : EPOCH 5 - PROGRESS: at 44.69% examples, 281373 words/s, in_qsize 6, out_qsize 0\n",
            "2018-10-21 00:53:48,555 : INFO : EPOCH 5 - PROGRESS: at 47.40% examples, 283420 words/s, in_qsize 5, out_qsize 0\n",
            "2018-10-21 00:53:49,561 : INFO : EPOCH 5 - PROGRESS: at 50.04% examples, 284929 words/s, in_qsize 5, out_qsize 0\n",
            "2018-10-21 00:53:50,567 : INFO : EPOCH 5 - PROGRESS: at 52.75% examples, 286574 words/s, in_qsize 5, out_qsize 0\n",
            "2018-10-21 00:53:51,568 : INFO : EPOCH 5 - PROGRESS: at 55.34% examples, 287610 words/s, in_qsize 5, out_qsize 0\n",
            "2018-10-21 00:53:52,572 : INFO : EPOCH 5 - PROGRESS: at 57.98% examples, 288769 words/s, in_qsize 5, out_qsize 0\n",
            "2018-10-21 00:53:53,587 : INFO : EPOCH 5 - PROGRESS: at 60.69% examples, 290010 words/s, in_qsize 5, out_qsize 0\n",
            "2018-10-21 00:53:54,598 : INFO : EPOCH 5 - PROGRESS: at 63.39% examples, 291179 words/s, in_qsize 5, out_qsize 0\n",
            "2018-10-21 00:53:55,633 : INFO : EPOCH 5 - PROGRESS: at 66.10% examples, 291949 words/s, in_qsize 4, out_qsize 1\n",
            "2018-10-21 00:53:56,642 : INFO : EPOCH 5 - PROGRESS: at 68.86% examples, 293274 words/s, in_qsize 6, out_qsize 0\n",
            "2018-10-21 00:53:57,680 : INFO : EPOCH 5 - PROGRESS: at 71.57% examples, 294038 words/s, in_qsize 5, out_qsize 0\n",
            "2018-10-21 00:53:58,713 : INFO : EPOCH 5 - PROGRESS: at 74.27% examples, 294763 words/s, in_qsize 5, out_qsize 0\n",
            "2018-10-21 00:53:59,717 : INFO : EPOCH 5 - PROGRESS: at 77.09% examples, 295548 words/s, in_qsize 5, out_qsize 0\n",
            "2018-10-21 00:54:00,726 : INFO : EPOCH 5 - PROGRESS: at 79.80% examples, 296226 words/s, in_qsize 5, out_qsize 0\n",
            "2018-10-21 00:54:01,731 : INFO : EPOCH 5 - PROGRESS: at 82.50% examples, 296865 words/s, in_qsize 5, out_qsize 0\n",
            "2018-10-21 00:54:02,743 : INFO : EPOCH 5 - PROGRESS: at 85.21% examples, 297549 words/s, in_qsize 5, out_qsize 0\n",
            "2018-10-21 00:54:03,756 : INFO : EPOCH 5 - PROGRESS: at 87.91% examples, 298129 words/s, in_qsize 5, out_qsize 1\n",
            "2018-10-21 00:54:04,791 : INFO : EPOCH 5 - PROGRESS: at 90.68% examples, 298750 words/s, in_qsize 5, out_qsize 0\n",
            "2018-10-21 00:54:05,811 : INFO : EPOCH 5 - PROGRESS: at 93.44% examples, 299322 words/s, in_qsize 5, out_qsize 0\n",
            "2018-10-21 00:54:06,842 : INFO : EPOCH 5 - PROGRESS: at 96.15% examples, 299726 words/s, in_qsize 5, out_qsize 1\n",
            "2018-10-21 00:54:07,880 : INFO : EPOCH 5 - PROGRESS: at 98.97% examples, 300209 words/s, in_qsize 5, out_qsize 0\n",
            "2018-10-21 00:54:08,574 : INFO : worker thread finished; awaiting finish of 2 more threads\n",
            "2018-10-21 00:54:08,587 : INFO : worker thread finished; awaiting finish of 1 more threads\n",
            "2018-10-21 00:54:08,599 : INFO : worker thread finished; awaiting finish of 0 more threads\n",
            "2018-10-21 00:54:08,601 : INFO : EPOCH - 5 : training on 17005208 raw words (11930790 effective words) took 40.0s, 297927 effective words/s\n",
            "2018-10-21 00:54:08,605 : INFO : training on a 85026040 raw words (59643109 effective words) took 197.7s, 301743 effective words/s\n"
          ],
          "name": "stderr"
        }
      ]
    },
    {
      "metadata": {
        "id": "z6-Ywzw9Gcav",
        "colab_type": "code",
        "colab": {
          "base_uri": "https://localhost:8080/",
          "height": 107
        },
        "outputId": "c795bffa-2ebe-4e3f-e3b9-b8ddabe0a05e"
      },
      "cell_type": "code",
      "source": [
        "model.init_sims(replace=True)\n",
        "model.save('word2vec_gensim.bin')"
      ],
      "execution_count": 6,
      "outputs": [
        {
          "output_type": "stream",
          "text": [
            "2018-10-21 00:59:24,167 : INFO : precomputing L2-norms of word weight vectors\n",
            "2018-10-21 00:59:24,462 : INFO : saving Word2Vec object under word2vec_gensim.bin, separately None\n",
            "2018-10-21 00:59:24,464 : INFO : not storing attribute vectors_norm\n",
            "2018-10-21 00:59:24,469 : INFO : not storing attribute cum_table\n",
            "2018-10-21 00:59:25,041 : INFO : saved word2vec_gensim.bin\n"
          ],
          "name": "stderr"
        }
      ]
    },
    {
      "metadata": {
        "id": "DpfiNT2xJ8tM",
        "colab_type": "code",
        "colab": {
          "base_uri": "https://localhost:8080/",
          "height": 143
        },
        "outputId": "edcc5756-9bf6-48de-c563-41a2502f7ce9"
      },
      "cell_type": "code",
      "source": [
        "model = Word2Vec.load('word2vec_gensim.bin')"
      ],
      "execution_count": 12,
      "outputs": [
        {
          "output_type": "stream",
          "text": [
            "2018-10-21 01:06:43,557 : INFO : loading Word2Vec object from word2vec_gensim.bin\n",
            "2018-10-21 01:06:44,040 : INFO : loading wv recursively from word2vec_gensim.bin.wv.* with mmap=None\n",
            "2018-10-21 01:06:44,041 : INFO : setting ignored attribute vectors_norm to None\n",
            "2018-10-21 01:06:44,043 : INFO : loading vocabulary recursively from word2vec_gensim.bin.vocabulary.* with mmap=None\n",
            "2018-10-21 01:06:44,045 : INFO : loading trainables recursively from word2vec_gensim.bin.trainables.* with mmap=None\n",
            "2018-10-21 01:06:44,047 : INFO : setting ignored attribute cum_table to None\n",
            "2018-10-21 01:06:44,050 : INFO : loaded word2vec_gensim.bin\n"
          ],
          "name": "stderr"
        }
      ]
    },
    {
      "metadata": {
        "id": "G6bYJoW_KOqa",
        "colab_type": "code",
        "colab": {
          "base_uri": "https://localhost:8080/",
          "height": 1441
        },
        "outputId": "005db7b3-6b19-4e72-a0ae-d87758f87be1"
      },
      "cell_type": "code",
      "source": [
        "model['woman']"
      ],
      "execution_count": 13,
      "outputs": [
        {
          "output_type": "stream",
          "text": [
            "/usr/local/lib/python3.6/dist-packages/ipykernel_launcher.py:1: DeprecationWarning: Call to deprecated `__getitem__` (Method will be removed in 4.0.0, use self.wv.__getitem__() instead).\n",
            "  \"\"\"Entry point for launching an IPython kernel.\n"
          ],
          "name": "stderr"
        },
        {
          "output_type": "execute_result",
          "data": {
            "text/plain": [
              "array([-3.12539935e-02,  6.30756915e-02,  2.35248357e-02,  7.15598986e-02,\n",
              "        1.01655893e-01,  9.16238204e-02, -9.09186006e-02,  7.73171382e-03,\n",
              "       -1.00381620e-01,  8.45033824e-02,  8.44804943e-02,  4.18166183e-02,\n",
              "       -3.73890623e-02, -2.53672153e-02, -1.87473632e-02, -6.59408793e-02,\n",
              "        8.09380561e-02, -3.61390598e-02, -3.54188941e-02, -6.27787560e-02,\n",
              "        7.10594878e-02, -4.67559658e-02,  1.26056224e-01, -4.06884551e-02,\n",
              "       -4.19949032e-02,  4.35111895e-02, -6.68001622e-02, -6.10989742e-02,\n",
              "       -6.49563549e-03,  8.37247968e-02, -3.30335014e-02, -9.36344359e-03,\n",
              "       -6.85894787e-02,  5.30244857e-02, -4.52193320e-02,  3.93616408e-02,\n",
              "       -1.05574559e-02, -9.09680128e-02,  6.89404830e-02,  2.93049822e-03,\n",
              "        1.60210971e-02,  2.07574740e-02,  4.17711362e-02,  4.85918559e-02,\n",
              "        2.87113953e-02, -2.73972806e-02,  9.09329355e-02, -4.70883958e-02,\n",
              "       -2.13520136e-02,  7.54616410e-02, -8.86081398e-05, -3.21777463e-02,\n",
              "        9.09937322e-02, -4.03084606e-02,  3.41359936e-02,  2.76740603e-02,\n",
              "       -3.20288283e-03, -4.44352999e-02, -3.77928987e-02, -4.98906560e-02,\n",
              "        1.13509238e-01, -1.56573635e-02, -4.08064248e-03,  5.08697145e-02,\n",
              "        1.40897976e-02,  6.96742535e-02,  3.61297913e-02, -6.52685761e-02,\n",
              "        3.64102758e-02,  5.30728921e-02,  2.22643558e-02, -7.00437725e-02,\n",
              "        5.55825420e-02, -4.61359136e-02, -5.73560335e-02,  2.15504132e-02,\n",
              "       -2.04753447e-02, -1.73466712e-01, -6.47391472e-03,  4.22608480e-02,\n",
              "        1.68774801e-03,  3.96234542e-02,  9.22228470e-02, -5.35903610e-02,\n",
              "       -5.58917271e-03, -9.85024497e-02, -7.34498873e-02, -5.57820164e-02,\n",
              "       -6.91579357e-02, -8.94236565e-02,  1.13138169e-01,  5.14748953e-02,\n",
              "        1.77588779e-02,  7.44054541e-02,  4.03771549e-02,  6.08010031e-02,\n",
              "       -6.99565886e-03, -1.60653919e-01, -8.93246606e-02,  5.39464690e-03,\n",
              "       -2.91623594e-03, -4.41916250e-02,  5.51283918e-02, -5.97987510e-02,\n",
              "       -3.20163593e-02, -3.90505008e-02,  2.60362253e-02,  3.28996442e-02,\n",
              "       -4.62837704e-03, -2.20788158e-02, -6.08368479e-02,  3.62141840e-02,\n",
              "        6.93268180e-02,  1.79362856e-02, -1.76153798e-02,  8.28621686e-02,\n",
              "       -1.55783864e-02, -1.06213279e-01, -1.63191222e-02,  9.66819599e-02,\n",
              "        3.12309153e-02, -2.47561894e-02,  5.31619899e-02, -4.28092554e-02,\n",
              "       -5.70623353e-02, -2.83075613e-03,  2.15671770e-02, -3.01121231e-02,\n",
              "       -3.51544134e-02,  6.59912750e-02, -2.05830056e-02,  1.41212851e-01,\n",
              "        8.68758783e-02, -8.26663524e-02, -3.19370292e-02,  6.30495651e-03,\n",
              "        4.31983881e-02,  1.52978286e-01, -1.55732948e-02,  5.48202954e-02,\n",
              "       -2.61171698e-03, -1.28412157e-01,  4.76860031e-02, -1.52361207e-02,\n",
              "       -3.82174700e-02,  2.20593903e-02, -5.04613034e-02,  1.27328083e-01,\n",
              "        6.09870963e-02,  2.61807311e-02,  1.57631896e-02, -4.62691560e-02,\n",
              "       -2.90343165e-02,  9.93690267e-02, -4.51709926e-02,  8.50590616e-02,\n",
              "       -1.11779245e-02,  7.37503022e-02, -1.11156404e-02,  1.85479522e-02,\n",
              "       -8.17101821e-03,  4.11351994e-02, -6.73902035e-02, -7.02597015e-03,\n",
              "       -8.08949023e-02, -1.56171337e-01,  5.05813733e-02, -4.94310148e-02,\n",
              "       -2.88806334e-02,  6.27343655e-02,  4.50378433e-02, -2.29901280e-02,\n",
              "        8.71399939e-02, -2.89930943e-02,  5.08101247e-02, -5.42984493e-02,\n",
              "        7.34801739e-02,  1.91960298e-02,  1.62675139e-02,  6.44968683e-03,\n",
              "       -3.42256576e-02, -3.34861167e-02,  4.36606407e-02,  1.74044129e-02,\n",
              "       -2.53107008e-02, -8.69213119e-02, -4.46895808e-02,  6.43244013e-02,\n",
              "        6.52717277e-02, -1.40811019e-02,  1.72970686e-02, -1.88746527e-02,\n",
              "        3.75529677e-02, -6.58063442e-02,  5.75888008e-02,  7.13831484e-02,\n",
              "       -4.78158630e-02, -1.42417001e-02,  6.18717894e-02,  1.24169968e-01,\n",
              "        6.15046620e-02, -2.86714584e-02, -7.76584297e-02,  1.36077795e-02,\n",
              "        1.06571421e-01, -5.39309978e-02, -4.27251635e-03,  2.88790204e-02,\n",
              "        1.39655694e-02, -4.90082391e-02,  4.83002327e-02,  1.79182813e-01,\n",
              "        3.07593402e-02,  2.18084380e-02, -1.23041295e-01, -2.32181698e-02,\n",
              "       -1.53247211e-02,  7.41285011e-02, -4.33786809e-02,  8.28922391e-02,\n",
              "        4.95559387e-02,  3.15457284e-02,  3.14936899e-02, -3.42089385e-02,\n",
              "        5.98043203e-02,  4.61438447e-02,  3.06326300e-02, -6.24580532e-02,\n",
              "       -1.31144458e-02, -9.51163878e-04, -4.98165935e-02, -5.82538098e-02,\n",
              "        4.31992263e-02,  2.66779941e-02,  5.83693907e-02,  5.04290387e-02,\n",
              "       -3.45714465e-02, -2.85549350e-02,  5.58154285e-02, -4.29703435e-03,\n",
              "        6.53484911e-02,  2.10464317e-02,  6.79570660e-02,  6.76744711e-03,\n",
              "       -3.01745590e-02, -6.39671460e-02, -2.47672424e-02,  1.36433691e-02,\n",
              "        8.42776000e-02, -8.35818145e-03,  5.60424887e-02, -5.24076149e-02,\n",
              "        2.59515308e-02,  2.43961327e-02, -5.10661900e-02, -5.25253452e-02,\n",
              "        3.97787206e-02, -2.85717342e-02,  3.18602175e-02,  1.26083260e-02,\n",
              "        2.43364312e-02, -4.04867604e-02,  5.34407161e-02,  1.12471282e-02,\n",
              "       -5.52494302e-02, -6.27840906e-02, -6.35131672e-02, -5.91716990e-02,\n",
              "        5.94026828e-03, -1.11997291e-01,  1.37336031e-02,  1.98664758e-02,\n",
              "        2.84218788e-02, -4.23035473e-02, -1.08647179e-02, -1.06444182e-02,\n",
              "       -1.58362314e-02,  2.88913902e-02,  1.08731985e-02,  3.51548158e-02,\n",
              "        9.65036005e-02, -5.32542393e-02, -7.38257244e-02, -1.16992714e-02,\n",
              "        1.25049457e-01,  3.31352577e-02,  1.67435072e-02,  1.61848851e-02,\n",
              "        1.28496051e-01, -5.35375960e-02,  3.07532586e-02,  1.30146341e-02,\n",
              "        4.73579504e-02, -8.13242197e-02, -6.59486279e-02,  4.38392498e-02,\n",
              "        4.42359969e-02, -7.41306022e-02,  3.12443879e-02,  5.54020368e-02],\n",
              "      dtype=float32)"
            ]
          },
          "metadata": {
            "tags": []
          },
          "execution_count": 13
        }
      ]
    },
    {
      "metadata": {
        "id": "LX439r9fKZ1o",
        "colab_type": "code",
        "colab": {
          "base_uri": "https://localhost:8080/",
          "height": 307
        },
        "outputId": "3e33957d-f31f-4ab9-cbc3-055ddd9f4891"
      },
      "cell_type": "code",
      "source": [
        "model.most_similar(\"woman\")"
      ],
      "execution_count": 15,
      "outputs": [
        {
          "output_type": "stream",
          "text": [
            "/usr/local/lib/python3.6/dist-packages/ipykernel_launcher.py:1: DeprecationWarning: Call to deprecated `most_similar` (Method will be removed in 4.0.0, use self.wv.most_similar() instead).\n",
            "  \"\"\"Entry point for launching an IPython kernel.\n",
            "2018-10-21 01:07:56,797 : INFO : precomputing L2-norms of word weight vectors\n",
            "/usr/local/lib/python3.6/dist-packages/gensim/matutils.py:737: FutureWarning: Conversion of the second argument of issubdtype from `int` to `np.signedinteger` is deprecated. In future, it will be treated as `np.int64 == np.dtype(int).type`.\n",
            "  if np.issubdtype(vec.dtype, np.int):\n"
          ],
          "name": "stderr"
        },
        {
          "output_type": "execute_result",
          "data": {
            "text/plain": [
              "[('girl', 0.7232778072357178),\n",
              " ('child', 0.6949923038482666),\n",
              " ('lady', 0.6514122486114502),\n",
              " ('man', 0.6506549119949341),\n",
              " ('lover', 0.6357223987579346),\n",
              " ('herself', 0.6231673955917358),\n",
              " ('baby', 0.613795280456543),\n",
              " ('person', 0.6087890863418579),\n",
              " ('daughter', 0.5794006586074829),\n",
              " ('husband', 0.574734091758728)]"
            ]
          },
          "metadata": {
            "tags": []
          },
          "execution_count": 15
        }
      ]
    },
    {
      "metadata": {
        "id": "Y4UyTY-wKgi6",
        "colab_type": "code",
        "colab": {
          "base_uri": "https://localhost:8080/",
          "height": 127
        },
        "outputId": "0e2d1719-6940-4ef2-afc1-470a96e395f0"
      },
      "cell_type": "code",
      "source": [
        "model.similarity('girl','woman')"
      ],
      "execution_count": 17,
      "outputs": [
        {
          "output_type": "stream",
          "text": [
            "/usr/local/lib/python3.6/dist-packages/ipykernel_launcher.py:1: DeprecationWarning: Call to deprecated `similarity` (Method will be removed in 4.0.0, use self.wv.similarity() instead).\n",
            "  \"\"\"Entry point for launching an IPython kernel.\n",
            "/usr/local/lib/python3.6/dist-packages/gensim/matutils.py:737: FutureWarning: Conversion of the second argument of issubdtype from `int` to `np.signedinteger` is deprecated. In future, it will be treated as `np.int64 == np.dtype(int).type`.\n",
            "  if np.issubdtype(vec.dtype, np.int):\n"
          ],
          "name": "stderr"
        },
        {
          "output_type": "execute_result",
          "data": {
            "text/plain": [
              "0.7232778"
            ]
          },
          "metadata": {
            "tags": []
          },
          "execution_count": 17
        }
      ]
    },
    {
      "metadata": {
        "id": "zLxbEyzZK9Tc",
        "colab_type": "code",
        "colab": {
          "base_uri": "https://localhost:8080/",
          "height": 127
        },
        "outputId": "bfd1f42e-5c95-429a-8d62-f2c044386689"
      },
      "cell_type": "code",
      "source": [
        "model.similarity('girl','car')"
      ],
      "execution_count": 18,
      "outputs": [
        {
          "output_type": "stream",
          "text": [
            "/usr/local/lib/python3.6/dist-packages/ipykernel_launcher.py:1: DeprecationWarning: Call to deprecated `similarity` (Method will be removed in 4.0.0, use self.wv.similarity() instead).\n",
            "  \"\"\"Entry point for launching an IPython kernel.\n",
            "/usr/local/lib/python3.6/dist-packages/gensim/matutils.py:737: FutureWarning: Conversion of the second argument of issubdtype from `int` to `np.signedinteger` is deprecated. In future, it will be treated as `np.int64 == np.dtype(int).type`.\n",
            "  if np.issubdtype(vec.dtype, np.int):\n"
          ],
          "name": "stderr"
        },
        {
          "output_type": "execute_result",
          "data": {
            "text/plain": [
              "0.31464115"
            ]
          },
          "metadata": {
            "tags": []
          },
          "execution_count": 18
        }
      ]
    },
    {
      "metadata": {
        "id": "QLmNUC_BLH5b",
        "colab_type": "code",
        "colab": {}
      },
      "cell_type": "code",
      "source": [
        ""
      ],
      "execution_count": 0,
      "outputs": []
    }
  ]
}
